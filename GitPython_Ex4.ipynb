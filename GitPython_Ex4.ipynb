{
 "cells": [
  {
   "cell_type": "markdown",
   "metadata": {},
   "source": [
    "# Amal Sailendran, A1783111"
   ]
  },
  {
   "cell_type": "markdown",
   "metadata": {},
   "source": [
    "# 1.\tCVE-ID: CVE-2014-1904\n",
    "# 2.\tProject Link: https://github.com/spring-projects/spring-framework\n",
    "# 3.\tProvided Fixing Commit: 75e08695a04980dbceae6789364717e9d8764d58"
   ]
  },
  {
   "cell_type": "code",
   "execution_count": 1,
   "metadata": {},
   "outputs": [],
   "source": [
    "import numpy as np\n",
    "import pandas as pd\n",
    "import os\n",
    "import re\n",
    "import copy\n",
    "from collections import Counter\n",
    "# Specify git executable file for GitPython in Jupyter Notebook (In IDE, it can still work without this line.)\n",
    "os.environ[\"GIT_PYTHON_REFRESH\"] = \"quiet\"\n",
    "\n",
    "import git\n",
    "from git import RemoteProgress\n",
    "\n",
    "from git import Repo\n",
    "import matplotlib.pyplot as plt\n",
    "import seaborn as sns\n",
    "%matplotlib inline"
   ]
  },
  {
   "cell_type": "code",
   "execution_count": 2,
   "metadata": {},
   "outputs": [],
   "source": [
    "repo = Repo(\"spring-framework/\")\n",
    "fixingCommit=\"75e08695a04980dbceae6789364717e9d8764d58\"\n",
    "commit=repo.commit(fixingCommit)\n",
    "previousCommit = fixingCommit + '^'"
   ]
  },
  {
   "cell_type": "markdown",
   "metadata": {},
   "source": [
    "# Task ‘a’: What was the message and title of the fixing commit? Was there any mention of fixing a bug or vulnerability?\n"
   ]
  },
  {
   "cell_type": "code",
   "execution_count": 3,
   "metadata": {},
   "outputs": [
    {
     "name": "stdout",
     "output_type": "stream",
     "text": [
      "'    Mixed polishing along with recent changes'\n",
      "'    (cherry picked from commit 14e5a02)'\n"
     ]
    }
   ],
   "source": [
    "import pprint as pprint\n",
    "show_data = repo.git.show(\"-s\", fixingCommit).splitlines()\n",
    "pprint.pprint(show_data[4])\n",
    "pprint.pprint(show_data[5])"
   ]
  },
  {
   "cell_type": "markdown",
   "metadata": {},
   "source": [
    "# Task ‘b’: How many total files were affected in the fixing commit?\n"
   ]
  },
  {
   "cell_type": "code",
   "execution_count": 4,
   "metadata": {},
   "outputs": [
    {
     "name": "stdout",
     "output_type": "stream",
     "text": [
      "' 5 files changed, 50 insertions(+), 29 deletions(-)'\n"
     ]
    }
   ],
   "source": [
    "import pprint as pprint\n",
    "totalFilesAffected = repo.git.show(\"--stat\", \"75e08695a04980dbceae6789364717e9d8764d58\").splitlines()\n",
    "\n",
    "pprint.pprint(totalFilesAffected[-1])"
   ]
  },
  {
   "cell_type": "markdown",
   "metadata": {},
   "source": [
    "# Task ‘c’: How many total directories were affected in the fixing commit?\n"
   ]
  },
  {
   "cell_type": "code",
   "execution_count": 5,
   "metadata": {},
   "outputs": [
    {
     "name": "stdout",
     "output_type": "stream",
     "text": [
      "['commit 75e08695a04980dbceae6789364717e9d8764d58',\n",
      " 'Author: Juergen Hoeller <jhoeller@vmware.com>',\n",
      " 'Date:   Fri Feb 14 21:39:40 2014 +0100',\n",
      " '',\n",
      " '    Mixed polishing along with recent changes',\n",
      " '    (cherry picked from commit 14e5a02)',\n",
      " '',\n",
      " ' .../org/springframework/cache/CacheManager.java    | 13 +++++------',\n",
      " ' .../expression/spel/MapAccessTests.java            | 16 +++++++++++---',\n",
      " ' .../interceptor/RollbackRuleAttribute.java         | 16 +++++++-------',\n",
      " ' .../ServletRequestMethodArgumentResolver.java      |  9 ++++----',\n",
      " ' .../web/servlet/tags/form/FormTag.java             | 25 '\n",
      " '++++++++++++++++------',\n",
      " ' 5 files changed, 50 insertions(+), 29 deletions(-)']\n",
      "spring-context/src/main/java/org/springframework/cache/CacheManager.java\n",
      "spring-expression/src/test/java/org/springframework/expression/spel/MapAccessTests.java\n",
      "spring-tx/src/main/java/org/springframework/transaction/interceptor/RollbackRuleAttribute.java\n",
      "spring-webmvc/src/main/java/org/springframework/web/servlet/mvc/method/annotation/ServletRequestMethodArgumentResolver.java\n",
      "spring-webmvc/src/main/java/org/springframework/web/servlet/tags/form/FormTag.java\n",
      "Total Directories Affected:  5\n"
     ]
    }
   ],
   "source": [
    "totalDirectoriesAffectedContent = repo.git.show(\"--stat\", \"75e08695a04980dbceae6789364717e9d8764d58\").splitlines()\n",
    "directoriesAffected=set()\n",
    "count=0\n",
    "pprint.pprint(totalDirectoriesAffectedContent)\n",
    "for file in commit.stats.files:\n",
    "    print(file)\n",
    "    count=count+1\n",
    "    \n",
    "print(\"Total Directories Affected: \",count)"
   ]
  },
  {
   "cell_type": "markdown",
   "metadata": {},
   "source": [
    "# Task 'd': How many total lines of code (including comments and blank lines) were deleted?\n"
   ]
  },
  {
   "cell_type": "code",
   "execution_count": 6,
   "metadata": {},
   "outputs": [
    {
     "name": "stdout",
     "output_type": "stream",
     "text": [
      "'Total lines DELETED including comments and blank lines:  29 deletions(-)'\n"
     ]
    }
   ],
   "source": [
    "totalLinesDeletedInc = repo.git.show(\"--stat\", \"75e08695a04980dbceae6789364717e9d8764d58\").splitlines()\n",
    "\n",
    "pprint.pprint(\"Total lines DELETED including comments and blank lines: \"+totalLinesDeletedInc[-1][35:])"
   ]
  },
  {
   "cell_type": "markdown",
   "metadata": {},
   "source": [
    "# Task 'e': How many total lines of code (including comments and blank lines) were added?\n"
   ]
  },
  {
   "cell_type": "code",
   "execution_count": 7,
   "metadata": {
    "scrolled": true
   },
   "outputs": [
    {
     "name": "stdout",
     "output_type": "stream",
     "text": [
      "'Total lines ADDED including comments and blank lines: 50 insertions(+)'\n"
     ]
    }
   ],
   "source": [
    "totalLinesAddedInc = repo.git.show(\"--stat\", \"75e08695a04980dbceae6789364717e9d8764d58\").splitlines()\n",
    "\n",
    "pprint.pprint(\"Total lines ADDED including comments and blank lines: \"+totalLinesAddedInc[-1][18:34])"
   ]
  },
  {
   "cell_type": "markdown",
   "metadata": {},
   "source": [
    "# Task 'f': How many total lines of code (excluding comments and blank lines) were deleted?\n"
   ]
  },
  {
   "cell_type": "code",
   "execution_count": 8,
   "metadata": {},
   "outputs": [
    {
     "name": "stdout",
     "output_type": "stream",
     "text": [
      "Lines Deleted (excluding comments and blank lines): 18\n"
     ]
    }
   ],
   "source": [
    "def getSum():\n",
    "    getSum.bufferStore=0\n",
    "    for line in deletedLineShowData:\n",
    "        if re.compile('^-$|^-[^-]').match(line):\n",
    "            getSum.bufferStore = getSum.bufferStore+1\n",
    "            if re.compile('^[-|\\+]\\s*\\*').match(line):\n",
    "                getSum.bufferStore = getSum.bufferStore-1\n",
    "            if re.compile('^[-|\\+]\\s*\\/\\/').match(line):\n",
    "                getSum.bufferStore = getSum.bufferStore-1\n",
    "deletedLineShowData = repo.git.diff(\"--ignore-blank-lines\",previousCommit, fixingCommit).splitlines()\n",
    "getSum()\n",
    "print(\"Lines Deleted (excluding comments and blank lines): %d\" %getSum.bufferStore)"
   ]
  },
  {
   "cell_type": "markdown",
   "metadata": {},
   "source": [
    "# Task 'g': How many total lines of code (excluding comments and blank lines) were added?\n"
   ]
  },
  {
   "cell_type": "code",
   "execution_count": 9,
   "metadata": {},
   "outputs": [
    {
     "name": "stdout",
     "output_type": "stream",
     "text": [
      "Lines Added (excluding comments and blank lines): 38\n"
     ]
    }
   ],
   "source": [
    "def getDiff():\n",
    "    getDiff.bufferStore=0\n",
    "    for line in addLineShowData:\n",
    "        if re.compile('^\\+$|^\\+[^\\+]').match(line):\n",
    "            getDiff.bufferStore = getDiff.bufferStore+1\n",
    "            if re.compile('^[-|\\+]\\s*\\*').match(line):\n",
    "                getDiff.bufferStore = getDiff.bufferStore-1\n",
    "            if re.compile('^[-|\\+]\\s*\\/\\/').match(line):\n",
    "                getDiff.bufferStore = getDiff.bufferStore-1\n",
    "addLineShowData = repo.git.diff(\"--ignore-blank-lines\",previousCommit, fixingCommit).splitlines()\n",
    "getDiff()\n",
    "print(\"Lines Added (excluding comments and blank lines): %d\" %getDiff.bufferStore)"
   ]
  },
  {
   "cell_type": "markdown",
   "metadata": {},
   "source": [
    "# Task ‘h’: How many days were between the current fixing commit and the previous commit of each affected file?\n"
   ]
  },
  {
   "cell_type": "code",
   "execution_count": 10,
   "metadata": {},
   "outputs": [],
   "source": [
    "# from datetime import datetime\n",
    "# from datetime import date\n",
    "# DateOfFixingCommit = repo.git.log(\"-1\" ,\"--format=\\\"%ai\\\"\", \"ea604f84e4a21fe081d66bbdab454b1e8a7d09b3\",\"--\",\"applications/content/src/org/ofbiz/content/content/ContentWorker.java\").splitlines()\n",
    "# DateOfFixingCommit=DateOfFixingCommit[0][1:11]\n",
    "# DateOfPrevCommit = repo.git.log(\"-1\" ,\"--format=\\\"%ai\\\"\",\"-p\",\"ea604f84e4a21fe081d66bbdab454b1e8a7d09b3^\",\"--\",\"applications/content/src/org/ofbiz/content/content/ContentWorker.java\").splitlines()\n",
    "# DateOfPrevCommit=DateOfPrevCommit[0][1:11]\n",
    "# DateOfPrevCommit= datetime.strptime(DateOfPrevCommit,\"%Y-%m-%d\")\n",
    "# DateOfFixingCommit= datetime.strptime(DateOfFixingCommit,\"%Y-%m-%d\")\n",
    "# Days=(DateOfFixingCommit-DateOfPrevCommit).days\n",
    "# print(Days,\"Days\")"
   ]
  },
  {
   "cell_type": "markdown",
   "metadata": {},
   "source": [
    "# Task ‘I’: How many time has each affected file of the current fixing commit been modified in the past since their creation (including rename of the file)?\n"
   ]
  },
  {
   "cell_type": "code",
   "execution_count": 11,
   "metadata": {},
   "outputs": [],
   "source": [
    "# Commits=repo.git.log(\"--follow\",\"ea604f84e4a21fe081d66bbdab454b1e8a7d09b3\",\"--\",\"applications/content/src/org/ofbiz/content/content/ContentWorker.java\")\n",
    "# print(Commits.count('commit'))"
   ]
  },
  {
   "cell_type": "markdown",
   "metadata": {},
   "source": [
    "# Task ‘j’: Which developers have modified each affected file since its creation?\n"
   ]
  },
  {
   "cell_type": "code",
   "execution_count": 12,
   "metadata": {},
   "outputs": [
    {
     "name": "stdout",
     "output_type": "stream",
     "text": [
      "spring-context/src/main/java/org/springframework/cache/CacheManager.java\n",
      "Author: Chris Beams\n",
      "Author: Sam Brannen\n",
      "Author: Arjen Poutsma\n",
      "Author: Costin Leau\n",
      "Author: Juergen Hoeller\n",
      "Author: Andy Clement\n",
      "Author: Sebastien Deleuze\n",
      "Author: Spring Operator\n",
      "Total:  8\n",
      "\n",
      "\n",
      "spring-expression/src/test/java/org/springframework/expression/spel/MapAccessTests.java\n",
      "Author: Chris Beams\n",
      "Author: Sam Brannen\n",
      "Author: Philippe Marschall\n",
      "Author: Juergen Hoeller\n",
      "Author: Keith Donald\n",
      "Author: Andy Clement\n",
      "Author: Stephane Nicoll\n",
      "Author: Spring Operator\n",
      "Author: Phillip Webb\n",
      "Total:  9\n",
      "\n",
      "\n",
      "spring-tx/src/main/java/org/springframework/transaction/interceptor/RollbackRuleAttribute.java\n",
      "Author: Chris Beams\n",
      "Author: Arjen Poutsma\n",
      "Author: Juergen Hoeller\n",
      "Author: Sebastien Deleuze\n",
      "Author: Spring Operator\n",
      "Author: Phillip Webb\n",
      "Total:  6\n",
      "\n",
      "\n",
      "spring-webmvc/src/main/java/org/springframework/web/servlet/mvc/method/annotation/ServletRequestMethodArgumentResolver.java\n",
      "Author: Chris Beams\n",
      "Author: Spring Operator\n",
      "Author: Juergen Hoeller\n",
      "Author: Rob Winch\n",
      "Author: Stephane Nicoll\n",
      "Author: Phillip Webb\n",
      "Author: Rossen Stoyanchev\n",
      "Total:  7\n",
      "\n",
      "\n",
      "spring-webmvc/src/main/java/org/springframework/web/servlet/tags/form/FormTag.java\n",
      "Author: Chris Beams\n",
      "Author: Sam Brannen\n",
      "Author: Arjen Poutsma\n",
      "Author: Spring Operator\n",
      "Author: Juergen Hoeller\n",
      "Author: stsypanov\n",
      "Author: Rob Harrop\n",
      "Author: Scott Andrews\n",
      "Author: Phillip Webb\n",
      "Author: Rossen Stoyanchev\n",
      "Total:  10\n",
      "\n",
      "\n"
     ]
    }
   ],
   "source": [
    "for file in commit.stats.files:\n",
    "    count=0\n",
    "    firstCommit=repo.git.log( \"--diff-filter=A\", \"--\", file)\n",
    "    if \"commit\" in firstCommit:\n",
    "        \n",
    "        commitList=[]\n",
    "        firstCommit=firstCommit.split(\"\\n\")\n",
    "        firstCommit=firstCommit[0].split(\" \")\n",
    "        for line in repo.git.diff(\"--name-only\", fixingCommit, firstCommit[1]).splitlines():\n",
    "            if file in line:\n",
    "                print(file)\n",
    "                authorData = repo.git.log(\"--follow\", \"--pretty=%aN\", \"--\", line).splitlines()\n",
    "                for author in set(authorData):\n",
    "                    print(\"Author: %s\" %author)\n",
    "                    count = count + 1;\n",
    "                print(\"Total: \",count )\n",
    "                print(\"\\n\")\n",
    "# fileShowData = repo.git.diff( \"--name-only\", fixingCommit, previousCommit).splitlines()\n",
    "# count = 0\n",
    "\n",
    "# avg = count / len(fileShowData)"
   ]
  },
  {
   "cell_type": "markdown",
   "metadata": {},
   "source": [
    "# Task ‘k’:  For each developer identified, how many commits have each of them submitted?\n"
   ]
  },
  {
   "cell_type": "code",
   "execution_count": 13,
   "metadata": {},
   "outputs": [
    {
     "name": "stdout",
     "output_type": "stream",
     "text": [
      " Chris Beams: 1049\n",
      " Sam Brannen: 2509\n",
      " Arjen Poutsma: 1212\n",
      " Costin Leau: 172\n",
      " Philippe Marschall: 22\n",
      " Juergen Hoeller: 5998\n",
      " stsypanov: 27\n",
      " Keith Donald: 619\n",
      " Rob Winch: 86\n",
      " Andy Clement: 259\n",
      " Rob Harrop: 27\n",
      " Stephane Nicoll: 776\n",
      " Scott Andrews: 42\n",
      " Sebastien Deleuze: 742\n",
      " Spring Operator: 8\n",
      " Phillip Webb: 611\n",
      " Rossen Stoyanchev: 3323\n"
     ]
    }
   ],
   "source": [
    "allAuthors = []\n",
    "count = 0\n",
    "for line in repo.git.diff(\"--name-only\", fixingCommit, previousCommit).splitlines():\n",
    "    allAuthors += repo.git.log(\"--follow\", \"--pretty=%aN\", \"--\", line).splitlines()\n",
    "allAuthors = list(set(allAuthors))\n",
    "log = repo.git.log(\"--pretty=%aN\")\n",
    "for author in allAuthors:\n",
    "    count = count + 1\n",
    "    print(\" %s: %d\" %(author, len(re.findall(author, log))))"
   ]
  },
  {
   "cell_type": "code",
   "execution_count": 14,
   "metadata": {},
   "outputs": [],
   "source": [
    "import numpy as np\n",
    "import pandas as pd\n",
    "import os\n",
    "import re\n",
    "import copy\n",
    "from collections import Counter\n",
    "# Specify git executable file for GitPython in Jupyter Notebook (In IDE, it can still work without this line.)\n",
    "os.environ[\"GIT_PYTHON_REFRESH\"] = \"quiet\"\n",
    "from collections import Counter\n",
    "import git\n",
    "from git import RemoteProgress\n",
    "import pprint as pprint\n",
    "from git import Repo\n",
    "import matplotlib.pyplot as plt\n",
    "import seaborn as sns\n",
    "import copy\n",
    "from collections import Counter\n",
    "%matplotlib inline"
   ]
  },
  {
   "cell_type": "code",
   "execution_count": null,
   "metadata": {},
   "outputs": [],
   "source": []
  },
  {
   "cell_type": "code",
   "execution_count": null,
   "metadata": {},
   "outputs": [],
   "source": []
  },
  {
   "cell_type": "code",
   "execution_count": null,
   "metadata": {},
   "outputs": [],
   "source": []
  },
  {
   "cell_type": "markdown",
   "metadata": {},
   "source": [
    "# VCC Analysis"
   ]
  },
  {
   "cell_type": "code",
   "execution_count": 15,
   "metadata": {},
   "outputs": [
    {
     "name": "stdout",
     "output_type": "stream",
     "text": [
      "***********DELETED COMMITS************\n",
      "Vulnerability Associated:  CVE-2014-1904\n",
      "File Associated:  spring-context/src/main/java/org/springframework/cache/CacheManager.java\n",
      "Count of Commits: 6 , Commit: a252a285e27cb8cc470e958a3bc11d1b38fa1199\n",
      "File Associated:  spring-expression/src/test/java/org/springframework/expression/spel/MapAccessTests.java\n",
      "Count of Commits: 1 , Commit: c33df5977a622d5ced7a057af090c39a8f95b2ec\n",
      "Count of Commits: 2 , Commit: 065b1c0e463e0d2b63931d487a6e29ef7c99b189\n",
      "File Associated:  spring-tx/src/main/java/org/springframework/transaction/interceptor/RollbackRuleAttribute.java\n",
      "Count of Commits: 1 , Commit: 8472a2b2ab23dbd0a4009296847ee8e1dbee8d45\n",
      "Count of Commits: 7 , Commit: 846b848fd30fd6c42d17b5748612d418338d049d\n",
      "File Associated:  spring-webmvc/src/main/java/org/springframework/web/servlet/mvc/method/annotation/ServletRequestMethodArgumentResolver.java\n",
      "Count of Commits: 1 , Commit: d7d1b495f2775df0c03d7cff33d0a07c0e3e83dd\n",
      "Count of Commits: 1 , Commit: acc75aa4b898a34dce42748df5b54624f8b3e9f2\n",
      "Count of Commits: 3 , Commit: 0dae1a6bd8eff9d19670ebc0019789759af4394f\n",
      "File Associated:  spring-webmvc/src/main/java/org/springframework/web/servlet/tags/form/FormTag.java\n",
      "Count of Commits: 1 , Commit: 0829cbfdd3adc4459e47b6c4e1411dba796f964a\n",
      "Count of Commits: 5 , Commit: af47a8b79b0fa07ff2c038197a07c09b745802ac\n",
      "Count of Commits: 1 , Commit: c257afa515259cbe1756fe418907f45755e92c80\n",
      "\n",
      "\n",
      "***********ADDED COMMITS************\n",
      "Vulnerability Associated:  CVE-2014-1904\n",
      "File Associated:  spring-context/src/main/java/org/springframework/cache/CacheManager.java\n",
      "Count of Commits: 1 , Commit: 75e08695a04980dbceae6789364717e9d8764d58\n",
      "Count of Commits: 6 , Commit: a252a285e27cb8cc470e958a3bc11d1b38fa1199\n",
      "File Associated:  spring-expression/src/test/java/org/springframework/expression/spel/MapAccessTests.java\n",
      "Count of Commits: 3 , Commit: c33df5977a622d5ced7a057af090c39a8f95b2ec\n",
      "Count of Commits: 3 , Commit: 470e086183a3a9f8356af8f70e98de712e3f11c4\n",
      "Count of Commits: 7 , Commit: 75e08695a04980dbceae6789364717e9d8764d58\n",
      "File Associated:  spring-tx/src/main/java/org/springframework/transaction/interceptor/RollbackRuleAttribute.java\n",
      "Count of Commits: 4 , Commit: 75e08695a04980dbceae6789364717e9d8764d58\n",
      "Count of Commits: 4 , Commit: 846b848fd30fd6c42d17b5748612d418338d049d\n",
      "File Associated:  spring-webmvc/src/main/java/org/springframework/web/servlet/mvc/method/annotation/ServletRequestMethodArgumentResolver.java\n",
      "Count of Commits: 1 , Commit: 75e08695a04980dbceae6789364717e9d8764d58\n",
      "Count of Commits: 1 , Commit: acc75aa4b898a34dce42748df5b54624f8b3e9f2\n",
      "Count of Commits: 2 , Commit: aa065e83100ace913de9f46ff38aeb84a4d85229\n",
      "File Associated:  spring-webmvc/src/main/java/org/springframework/web/servlet/tags/form/FormTag.java\n",
      "Count of Commits: 5 , Commit: 75e08695a04980dbceae6789364717e9d8764d58\n",
      "Count of Commits: 10 , Commit: af47a8b79b0fa07ff2c038197a07c09b745802ac\n",
      "Count of Commits: 2 , Commit: 399f887128f2dc0dcaadb7b7df2826ce0b9dcf79\n",
      "Count of Commits: 1 , Commit: c257afa515259cbe1756fe418907f45755e92c80\n",
      "\n",
      "\n",
      "***********VCC COMMITS************\n",
      "CVE-2014-1904\n",
      "    * spring-context/src/main/java/org/springframework/cache/CacheManager.java\n",
      "Vulnerability Contributing Commit Count:  12  Commit:  a252a285e27cb8cc470e958a3bc11d1b38fa1199\n",
      "    * spring-expression/src/test/java/org/springframework/expression/spel/MapAccessTests.java\n",
      "Vulnerability Contributing Commit Count:  4  Commit:  c33df5977a622d5ced7a057af090c39a8f95b2ec\n",
      "    * spring-tx/src/main/java/org/springframework/transaction/interceptor/RollbackRuleAttribute.java\n",
      "Vulnerability Contributing Commit Count:  11  Commit:  846b848fd30fd6c42d17b5748612d418338d049d\n",
      "    * spring-webmvc/src/main/java/org/springframework/web/servlet/mvc/method/annotation/ServletRequestMethodArgumentResolver.java\n",
      "Vulnerability Contributing Commit Count:  3  Commit:  0dae1a6bd8eff9d19670ebc0019789759af4394f\n",
      "    * spring-webmvc/src/main/java/org/springframework/web/servlet/tags/form/FormTag.java\n",
      "Vulnerability Contributing Commit Count:  15  Commit:  af47a8b79b0fa07ff2c038197a07c09b745802ac\n"
     ]
    }
   ],
   "source": [
    "def sanitize(modification):\n",
    "    line=modification\n",
    "    line=line.split('@@')[1]\n",
    "    line=line.replace('-','')\n",
    "    line=line.replace('+','')\n",
    "    line=line.replace(\" \",\",\")\n",
    "    line=line.split(\",\")\n",
    "    buffDel=[int(line[1]),int(line[1])+int(line[2])-1]\n",
    "    buffAdd=[int(line[3]),int(line[3])+int(line[4])-1]\n",
    "    linesDeleted.append(buffDel)\n",
    "    linesAdded.append(buffAdd)\n",
    "def enclosingScope(line,added_commits,fileComp):\n",
    "    fullCompleteIndex = (int(line[line.rfind(\" \", 0,line.find(\")\")):line.find(\")\")]) - 1)-1 \n",
    "    exited = False\n",
    "    noSkip = True\n",
    "    while fullCompleteIndex >= 0:\n",
    "        content = fileComp[fullCompleteIndex][line.find(\") \")+2:].strip()\n",
    "        if content.endswith(\"}\"):\n",
    "            noSkip = False\n",
    "        if content.endswith(\"{\") and not noSkip:\n",
    "            noSkip = True\n",
    "        elif content.endswith(\"{\") and noSkip:\n",
    "            hashedCode = repo.git.rev_parse(fileComp[fullCompleteIndex][:fileComp[fullCompleteIndex].find(\" \")])\n",
    "            if file in added_commits[\"CVE-2014-1904\"]:\n",
    "                added_commits[\"CVE-2014-1904\"][file].append(hashedCode)\n",
    "            else:\n",
    "                added_commits[\"CVE-2014-1904\"][file] = [hashedCode]\n",
    "            exited = True\n",
    "            break\n",
    "        fullCompleteIndex -= 1\n",
    "    if fullCompleteIndex < 0 and not exited:\n",
    "        hashedCode =repo.git.rev_parse(line[:line.find(\" \")])\n",
    "        if file in added_commits[\"CVE-2014-1904\"]:\n",
    "            added_commits[\"CVE-2014-1904\"][file].append(hashedCode)\n",
    "        else:\n",
    "            added_commits[\"CVE-2014-1904\"][file] = [hashedCode]            \n",
    "def hashCode(linesModifiedDictDup,foundFlag,line,file):\n",
    "    linesModifiedDictDup[\"CVE-2014-1904\"][file][\"deleted_lines\"].remove(foundFlag)\n",
    "    hashedCode = repo.git.rev_parse(line[:line.find(\" \")])\n",
    "    if file in commitsDeleted[\"CVE-2014-1904\"]:\n",
    "        commitsDeleted[\"CVE-2014-1904\"][file].append(hashedCode)\n",
    "    else:\n",
    "        commitsDeleted[\"CVE-2014-1904\"][file] = [hashedCode]\n",
    "def printLines(commitsDeletedOrAdded):\n",
    "    delAddCommitsNumb = {}\n",
    "    \n",
    "    for files in commitsDeletedOrAdded:\n",
    "        print(\"Vulnerability Associated: \", files)\n",
    "        delAddCommitsNumb[files] = {}\n",
    "        for file in commitsDeletedOrAdded[files]:\n",
    "\n",
    "            print(\"File Associated: \", file)\n",
    "            fileCommitNumb = Counter(commitsDeletedOrAdded[files][file])\n",
    "            if file in delAddCommitsNumb[files]:\n",
    "                delAddCommitsNumb[files][file].append(fileCommitNumb)\n",
    "            else:\n",
    "                delAddCommitsNumb[files][file] = [fileCommitNumb]\n",
    "            for commit, count in zip(fileCommitNumb.keys(), fileCommitNumb.values()):\n",
    "                print(\"Count of Commits:\", count, \", Commit:\", commit)\n",
    "        print(\"\\n\")\n",
    "repo =Repo(\"spring-framework/\")\n",
    "fixingCommit = \"75e08695a04980dbceae6789364717e9d8764d58\"\n",
    "previousCommit=fixingCommit+\"^1\"\n",
    "lineChanges={}\n",
    "showData = repo.git.diff(\"--name-only\", fixingCommit, previousCommit).splitlines()\n",
    "files=showData\n",
    "lineChanges = {}\n",
    "lineChanges[\"\"]={}\n",
    "linesModifiedBetween = {}\n",
    "linesModifiedBetween[\"CVE-2014-1904\"] = {}\n",
    "for file in files:\n",
    "    showData = repo.git.show(fixingCommit, \"--\", file).splitlines()\n",
    "    linesAdded = []\n",
    "    linesDeleted = []\n",
    "    for modification in showData:\n",
    "        if \"@@\" in modification:\n",
    "            sanitize(modification)\n",
    "    linesModifiedBetween[\"CVE-2014-1904\"][file] = {\"added_ranges\": linesAdded, \"deleted_ranges\": linesDeleted}\n",
    "linesModifiedDict = {}\n",
    "linesModifiedDict[\"CVE-2014-1904\"] = {}\n",
    "for file in files:\n",
    "    showData = repo.git.show(fixingCommit, \"--\", file).splitlines()\n",
    "    linesAddedAsCode = []\n",
    "    linesDeletedAsCode = []\n",
    "    for lines in showData:\n",
    "        if lines.startswith('+') and not lines.startswith('+++'):\n",
    "            linesAddedAsCode.append(lines)\n",
    "        elif lines.startswith('-') and not lines.startswith('---'):\n",
    "            linesDeletedAsCode.append(lines)\n",
    "    linesModifiedDict[\"CVE-2014-1904\"][file] = {\"added_lines\": linesAddedAsCode, \"deleted_lines\": linesDeletedAsCode}\n",
    "linesModifiedDictDup = copy.deepcopy(linesModifiedDict)\n",
    "commitsDeleted = {}\n",
    "commitsDeleted[\"CVE-2014-1904\"] = {}\n",
    "for file in linesModifiedBetween[\"CVE-2014-1904\"]:\n",
    "    for deletedLines in linesModifiedBetween[\"CVE-2014-1904\"][file][\"deleted_ranges\"]:\n",
    "        blamedShowData = repo.git.blame(previousCommit, \"-L\", str(deletedLines[0])+\",\"+str(deletedLines[1]), \"--\", file).splitlines()\n",
    "        for line in blamedShowData:\n",
    "            blamedLineShowData = line.partition(\") \")[2].strip()\n",
    "            foundFlag = None\n",
    "            for deletedLineCode in linesModifiedDictDup[\"CVE-2014-1904\"][file][\"deleted_lines\"]:\n",
    "                if blamedLineShowData in deletedLineCode[2:]:\n",
    "                    foundFlag = deletedLineCode\n",
    "                    break\n",
    "            if foundFlag != None:\n",
    "                hashCode(linesModifiedDictDup,foundFlag,line,file)\n",
    "\n",
    "print(\"***********DELETED COMMITS************\")               \n",
    "printLines(commitsDeleted)\n",
    "linesModifiedDictDup = copy.deepcopy(linesModifiedDict)\n",
    "added_commits = {}\n",
    "added_commits[\"CVE-2014-1904\"] = {}\n",
    "for file in linesModifiedBetween[\"CVE-2014-1904\"]:\n",
    "    fileComp = repo.git.blame(fixingCommit, \"--\", file).splitlines()\n",
    "    for linesAdded in linesModifiedBetween[\"CVE-2014-1904\"][file][\"added_ranges\"]:\n",
    "        blamedShowData = repo.git.blame(fixingCommit, \"-L\", str(linesAdded[0])+\",\"+str(linesAdded[1]), \"--\", file).splitlines()\n",
    "        for line in blamedShowData:\n",
    "            blamedLineShowData = line[line.find(\") \")+2:].strip()\n",
    "            foundFlag= None\n",
    "            for linesAdded in linesModifiedDictDup[\"CVE-2014-1904\"][file][\"added_lines\"]:\n",
    "                if blamedLineShowData in linesAdded[2:]:\n",
    "                    foundFlag = linesAdded\n",
    "                    break\n",
    "            if foundFlag != None:\n",
    "                linesModifiedDictDup[\"CVE-2014-1904\"][file][\"added_lines\"].remove(foundFlag)\n",
    "                # Finding smallest enclosing scope\n",
    "                enclosingScope(line,added_commits,fileComp)\n",
    "print(\"***********ADDED COMMITS************\")\n",
    "printLines(added_commits)\n",
    "VCC = {}\n",
    "VCCCommits=[]\n",
    "print(\"***********VCC COMMITS************\")\n",
    "# Counting commits\n",
    "for v in commitsDeleted:\n",
    "    VCC[v] = {}\n",
    "    print(v)\n",
    "    for f in added_commits[v]:\n",
    "        print(\"    *\", f)\n",
    "        if f in commitsDeleted[v] and f in added_commits[v]:\n",
    "            counted_commits = Counter(commitsDeleted[v][f]+added_commits[v][f])\n",
    "        elif f in commitsDeleted[v] and f not in added_commits[v]:\n",
    "            counted_commits = Counter(commitsDeleted[v][f])\n",
    "        elif f not in commitsDeleted[v] and f in added_commits[v]:\n",
    "            counted_commits = Counter(added_commits[v][f])\n",
    "        VCC[v][f] = {\"count\": 0, \"commit\": \"\"}\n",
    "        for commit, count in zip(counted_commits.keys(), counted_commits.values()):\n",
    "            if (count > VCC[v][f][\"count\"]):\n",
    "                if commit != fixingCommit:\n",
    "                    VCC[v][f] = {\"count\": count, \"commit\": commit}\n",
    "            elif (count == VCC[v][f][\"count\"]):\n",
    "                if commit != fixingCommit:\n",
    "                    VCC[v][f][\"count\"].append(count)\n",
    "        VCCCommits.append(VCC[v][f][\"commit\"])  \n",
    "        print(\"Vulnerability Contributing Commit Count: \", VCC[v][f][\"count\"], \" Commit: \", VCC[v][f][\"commit\"])"
   ]
  },
  {
   "cell_type": "code",
   "execution_count": null,
   "metadata": {},
   "outputs": [],
   "source": []
  },
  {
   "attachments": {},
   "cell_type": "markdown",
   "metadata": {},
   "source": [
    "# Task ‘4.a’: Is the current VCC an initial commit?\n"
   ]
  },
  {
   "cell_type": "code",
   "execution_count": 16,
   "metadata": {},
   "outputs": [
    {
     "name": "stdout",
     "output_type": "stream",
     "text": [
      "Parent commit exists, as such it isn't an initial commit!\n"
     ]
    }
   ],
   "source": [
    "for VCC in VCCCommits:\n",
    "    if VCC[0]=='^':\n",
    "        VCC=VCC[1:]\n",
    "    try:\n",
    "        VCCParent= repo.git.show(VCC+\"^\").splitlines()\n",
    "    except: \n",
    "        pass\n",
    "print(\"Parent commit exists, as such it isn't an initial commit!\")"
   ]
  },
  {
   "attachments": {},
   "cell_type": "markdown",
   "metadata": {},
   "source": [
    "# Task ‘4.b’: Is the developer of the current fixing commit and its corresponding VCC the same? If not, give your reflections on the difference in their experience.\n"
   ]
  },
  {
   "cell_type": "code",
   "execution_count": 17,
   "metadata": {},
   "outputs": [
    {
     "name": "stdout",
     "output_type": "stream",
     "text": [
      "jhoeller@vmware.com\n",
      "Yes! fixing commit author: jhoeller@vmware.com is same in commit: c33df5977a622d5ced7a057af090c39a8f95b2ec\n"
     ]
    }
   ],
   "source": [
    "commit=repo.commit(fixingCommit)\n",
    "fixinCommitAuthor=commit.author.email\n",
    "print(fixinCommitAuthor)\n",
    "for commits in VCCCommits:\n",
    "    VCCcommit=repo.commit(commits)\n",
    "    VCCCommitAuthor=VCCcommit.author.email\n",
    "    if(fixinCommitAuthor==VCCCommitAuthor):\n",
    "        print(\"Yes! fixing commit author: {} is same in commit: {}\".format(fixinCommitAuthor,VCCcommit))"
   ]
  },
  {
   "attachments": {},
   "cell_type": "markdown",
   "metadata": {},
   "source": [
    "# Task ‘4.c’: How many days were between the current fixing commit and its corresponding VCC? Is the current VCC fixed immediately\n"
   ]
  },
  {
   "cell_type": "code",
   "execution_count": 18,
   "metadata": {},
   "outputs": [
    {
     "name": "stdout",
     "output_type": "stream",
     "text": [
      "Fixing commit: 75e08695a04980dbceae6789364717e9d8764d58 and VCC commit: a252a285e27cb8cc470e958a3bc11d1b38fa1199 was fixed in: 821 days, 0:00:00 \n",
      "Fixing commit: 75e08695a04980dbceae6789364717e9d8764d58 and VCC commit: c33df5977a622d5ced7a057af090c39a8f95b2ec was fixed in: 1255 days, 0:00:00 \n",
      "Fixing commit: 75e08695a04980dbceae6789364717e9d8764d58 and VCC commit: 846b848fd30fd6c42d17b5748612d418338d049d was fixed in: 1940 days, 0:00:00 \n",
      "Fixing commit: 75e08695a04980dbceae6789364717e9d8764d58 and VCC commit: 0dae1a6bd8eff9d19670ebc0019789759af4394f was fixed in: 961 days, 0:00:00 \n",
      "Fixing commit: 75e08695a04980dbceae6789364717e9d8764d58 and VCC commit: af47a8b79b0fa07ff2c038197a07c09b745802ac was fixed in: 1936 days, 0:00:00 \n"
     ]
    }
   ],
   "source": [
    "from datetime import datetime\n",
    "commit=repo.commit(fixingCommit)\n",
    "fixinCommitAuthor=commit.author.email\n",
    "dateFixing=repo.git.show(\"-s\",\"--format=%ci\",commit).split(\" \")\n",
    "dateFixing=dateFixing[0]\n",
    "dateFixing=datetime.strptime(\"{}\".format(dateFixing), '%Y-%m-%d').date()\n",
    "time_different = 0\n",
    "sum = 0\n",
    "count = 0\n",
    "for commits in VCCCommits:\n",
    "    date=repo.git.show(\"-s\",\"--format=%ci\",commits).split(\" \")\n",
    "    date=date[0]\n",
    "    date= datetime.strptime(\"{}\".format(date), '%Y-%m-%d').date()\n",
    "    days=dateFixing-date\n",
    "    print(\"Fixing commit: {} and VCC commit: {} was fixed in: {} \".format(commit,commits,days))\n",
    "    \n",
    "    "
   ]
  },
  {
   "attachments": {},
   "cell_type": "markdown",
   "metadata": {},
   "source": [
    "# Task ‘4.d’: If the current VCC is not fixed immediately (within the same day), was there any other vulnerability, bug or special request happening between the current fixing commit and VCC that might require higher priority?"
   ]
  },
  {
   "cell_type": "markdown",
   "metadata": {},
   "source": [
    "# 1.\tCVE-ID: CVE-2016-6812\n",
    "# 2.\tProject Link: https://github.com/apache/cxf/\n",
    "# 3.\tProvided Fixing Commit: 1be97cb1"
   ]
  },
  {
   "cell_type": "code",
   "execution_count": 19,
   "metadata": {},
   "outputs": [],
   "source": [
    "import numpy as np\n",
    "import pandas as pd\n",
    "import os\n",
    "import re\n",
    "\n",
    "# Specify git executable file for GitPython in Jupyter Notebook (In IDE, it can still work without this line.)\n",
    "os.environ[\"GIT_PYTHON_REFRESH\"] = \"quiet\"\n",
    "\n",
    "import git\n",
    "from git import RemoteProgress\n",
    "\n",
    "from git import Repo\n",
    "import matplotlib.pyplot as plt\n",
    "import seaborn as sns\n",
    "%matplotlib inline"
   ]
  },
  {
   "cell_type": "code",
   "execution_count": 20,
   "metadata": {},
   "outputs": [],
   "source": [
    "repo = Repo(\"cxf/\")\n",
    "fixingCommit=\"1be97cb1\"\n",
    "commit=repo.commit(fixingCommit)\n",
    "previousCommit = fixingCommit + '^'"
   ]
  },
  {
   "cell_type": "markdown",
   "metadata": {},
   "source": [
    "# Task ‘a’: What was the message and title of the fixing commit? Was there any mention of fixing a bug or vulnerability?\n"
   ]
  },
  {
   "cell_type": "code",
   "execution_count": 21,
   "metadata": {},
   "outputs": [
    {
     "name": "stdout",
     "output_type": "stream",
     "text": [
      "'    [CXF-6216] Stripping away the matrix parameters if any from the base URL'\n"
     ]
    }
   ],
   "source": [
    "import pprint as pprint\n",
    "show_data = repo.git.show(\"-s\", fixingCommit).splitlines()\n",
    "pprint.pprint(show_data[-1])\n"
   ]
  },
  {
   "cell_type": "markdown",
   "metadata": {},
   "source": [
    "# Task ‘b’: How many total files were affected in the fixing commit?\n"
   ]
  },
  {
   "cell_type": "code",
   "execution_count": 22,
   "metadata": {},
   "outputs": [
    {
     "name": "stdout",
     "output_type": "stream",
     "text": [
      "' 4 files changed, 48 insertions(+), 4 deletions(-)'\n"
     ]
    }
   ],
   "source": [
    "import pprint as pprint\n",
    "totalFilesAffected = repo.git.show(\"--stat\", \"1be97cb1\").splitlines()\n",
    "\n",
    "pprint.pprint(totalFilesAffected[-1])"
   ]
  },
  {
   "cell_type": "markdown",
   "metadata": {},
   "source": [
    "# Task ‘c’: How many total directories were affected in the fixing commit?\n"
   ]
  },
  {
   "cell_type": "code",
   "execution_count": 23,
   "metadata": {},
   "outputs": [
    {
     "name": "stdout",
     "output_type": "stream",
     "text": [
      "['commit 1be97cb13aef121b799b1be4d9793c0e8b925a12',\n",
      " 'Author: Sergey Beryozkin <sberyozkin@gmail.com>',\n",
      " 'Date:   Tue Oct 18 13:04:04 2016 +0100',\n",
      " '',\n",
      " '    [CXF-6216] Stripping away the matrix parameters if any from the base URL',\n",
      " '',\n",
      " ' .../cxf/transport/servlet/BaseUrlHelper.java       |  5 ++++',\n",
      " ' .../servicelist/FormattedServiceListWriter.java    |  6 ++++-',\n",
      " ' .../servicelist/ServiceListGeneratorServlet.java   | 12 +++++++--',\n",
      " ' .../jaxrs/JAXRSClientServerSpringBookTest.java     | 29 '\n",
      " '+++++++++++++++++++++-',\n",
      " ' 4 files changed, 48 insertions(+), 4 deletions(-)']\n",
      "rt/transports/http/src/main/java/org/apache/cxf/transport/servlet/BaseUrlHelper.java\n",
      "rt/transports/http/src/main/java/org/apache/cxf/transport/servlet/servicelist/FormattedServiceListWriter.java\n",
      "rt/transports/http/src/main/java/org/apache/cxf/transport/servlet/servicelist/ServiceListGeneratorServlet.java\n",
      "systests/jaxrs/src/test/java/org/apache/cxf/systest/jaxrs/JAXRSClientServerSpringBookTest.java\n",
      "Total Directories Affected:  4\n"
     ]
    }
   ],
   "source": [
    "totalDirectoriesAffectedContent = repo.git.show(\"--stat\", \"1be97cb1\").splitlines()\n",
    "directoriesAffected=set()\n",
    "count=0\n",
    "pprint.pprint(totalDirectoriesAffectedContent)\n",
    "for file in commit.stats.files:\n",
    "    print(file)\n",
    "    count=count+1\n",
    "    \n",
    "print(\"Total Directories Affected: \",count)"
   ]
  },
  {
   "cell_type": "markdown",
   "metadata": {},
   "source": [
    "# Task 'd': How many total lines of code (including comments and blank lines) were deleted?\n"
   ]
  },
  {
   "cell_type": "code",
   "execution_count": 24,
   "metadata": {},
   "outputs": [
    {
     "name": "stdout",
     "output_type": "stream",
     "text": [
      "'Total lines DELETED including comments and blank lines:  4 deletions(-)'\n"
     ]
    }
   ],
   "source": [
    "totalLinesDeletedInc = repo.git.show(\"--stat\", \"1be97cb1\").splitlines()\n",
    "\n",
    "pprint.pprint(\"Total lines DELETED including comments and blank lines: \"+totalLinesDeletedInc[-1][35:])"
   ]
  },
  {
   "cell_type": "markdown",
   "metadata": {},
   "source": [
    "# Task 'e': How many total lines of code (including comments and blank lines) were added?\n"
   ]
  },
  {
   "cell_type": "code",
   "execution_count": 25,
   "metadata": {
    "scrolled": true
   },
   "outputs": [
    {
     "name": "stdout",
     "output_type": "stream",
     "text": [
      "'Total lines ADDED including comments and blank lines: 48 insertions(+)'\n"
     ]
    }
   ],
   "source": [
    "totalLinesAddedInc = repo.git.show(\"--stat\", \"1be97cb1\").splitlines()\n",
    "\n",
    "pprint.pprint(\"Total lines ADDED including comments and blank lines: \"+totalLinesAddedInc[-1][18:34])"
   ]
  },
  {
   "cell_type": "markdown",
   "metadata": {},
   "source": [
    "# Task 'f': How many total lines of code (excluding comments and blank lines) were deleted?\n"
   ]
  },
  {
   "cell_type": "code",
   "execution_count": 26,
   "metadata": {},
   "outputs": [
    {
     "name": "stdout",
     "output_type": "stream",
     "text": [
      "Lines Deleted (excluding comments and blank lines): 4\n"
     ]
    }
   ],
   "source": [
    "def getSum():\n",
    "    getSum.bufferStore=0\n",
    "    for line in deletedLineShowData:\n",
    "        if re.compile('^-$|^-[^-]').match(line):\n",
    "            getSum.bufferStore = getSum.bufferStore+1\n",
    "            if re.compile('^[-|\\+]\\s*\\*').match(line):\n",
    "                getSum.bufferStore = getSum.bufferStore-1\n",
    "            if re.compile('^[-|\\+]\\s*\\/\\/').match(line):\n",
    "                getSum.bufferStore = getSum.bufferStore-1\n",
    "deletedLineShowData = repo.git.diff(\"--ignore-blank-lines\",previousCommit, fixingCommit).splitlines()\n",
    "getSum()\n",
    "print(\"Lines Deleted (excluding comments and blank lines): %d\" %getSum.bufferStore)"
   ]
  },
  {
   "cell_type": "markdown",
   "metadata": {},
   "source": [
    "# Task 'g': How many total lines of code (excluding comments and blank lines) were added?\n"
   ]
  },
  {
   "cell_type": "code",
   "execution_count": 27,
   "metadata": {},
   "outputs": [
    {
     "name": "stdout",
     "output_type": "stream",
     "text": [
      "Lines Added (excluding comments and blank lines): 48\n"
     ]
    }
   ],
   "source": [
    "def getDiff():\n",
    "    getDiff.bufferStore=0\n",
    "    for line in addLineShowData:\n",
    "        if re.compile('^\\+$|^\\+[^\\+]').match(line):\n",
    "            getDiff.bufferStore = getDiff.bufferStore+1\n",
    "            if re.compile('^[-|\\+]\\s*\\*').match(line):\n",
    "                getDiff.bufferStore = getDiff.bufferStore-1\n",
    "            if re.compile('^[-|\\+]\\s*\\/\\/').match(line):\n",
    "                getDiff.bufferStore = getDiff.bufferStore-1\n",
    "addLineShowData = repo.git.diff(\"--ignore-blank-lines\",previousCommit, fixingCommit).splitlines()\n",
    "getDiff()\n",
    "print(\"Lines Added (excluding comments and blank lines): %d\" %getDiff.bufferStore)"
   ]
  },
  {
   "cell_type": "markdown",
   "metadata": {},
   "source": [
    "# Task ‘h’: How many days were between the current fixing commit and the previous commit of each affected file?\n"
   ]
  },
  {
   "cell_type": "code",
   "execution_count": 28,
   "metadata": {},
   "outputs": [],
   "source": [
    "# from datetime import datetime\n",
    "# from datetime import date\n",
    "# DateOfFixingCommit = repo.git.log(\"-1\" ,\"--format=\\\"%ai\\\"\", \"ea604f84e4a21fe081d66bbdab454b1e8a7d09b3\",\"--\",\"applications/content/src/org/ofbiz/content/content/ContentWorker.java\").splitlines()\n",
    "# DateOfFixingCommit=DateOfFixingCommit[0][1:11]\n",
    "# DateOfPrevCommit = repo.git.log(\"-1\" ,\"--format=\\\"%ai\\\"\",\"-p\",\"ea604f84e4a21fe081d66bbdab454b1e8a7d09b3^\",\"--\",\"applications/content/src/org/ofbiz/content/content/ContentWorker.java\").splitlines()\n",
    "# DateOfPrevCommit=DateOfPrevCommit[0][1:11]\n",
    "# DateOfPrevCommit= datetime.strptime(DateOfPrevCommit,\"%Y-%m-%d\")\n",
    "# DateOfFixingCommit= datetime.strptime(DateOfFixingCommit,\"%Y-%m-%d\")\n",
    "# Days=(DateOfFixingCommit-DateOfPrevCommit).days\n",
    "# print(Days,\"Days\")"
   ]
  },
  {
   "cell_type": "markdown",
   "metadata": {},
   "source": [
    "# Task ‘I’: How many time has each affected file of the current fixing commit been modified in the past since their creation (including rename of the file)?\n"
   ]
  },
  {
   "cell_type": "code",
   "execution_count": 29,
   "metadata": {},
   "outputs": [],
   "source": [
    "# Commits=repo.git.log(\"--follow\",\"ea604f84e4a21fe081d66bbdab454b1e8a7d09b3\",\"--\",\"applications/content/src/org/ofbiz/content/content/ContentWorker.java\")\n",
    "# print(Commits.count('commit'))"
   ]
  },
  {
   "cell_type": "markdown",
   "metadata": {},
   "source": [
    "# Task ‘j’: Which developers have modified each affected file since its creation?\n"
   ]
  },
  {
   "cell_type": "code",
   "execution_count": 30,
   "metadata": {},
   "outputs": [
    {
     "name": "stdout",
     "output_type": "stream",
     "text": [
      "rt/transports/http/src/main/java/org/apache/cxf/transport/servlet/BaseUrlHelper.java\n",
      "Author: Sergey Beryozkin\n",
      "Author: Daniel Kulp\n",
      "Author: Christian Schneider\n",
      "Author: J. Daniel Kulp\n",
      "Author: Colm O hEigeartaigh\n",
      "Total:  5\n",
      "\n",
      "\n",
      "rt/transports/http/src/main/java/org/apache/cxf/transport/servlet/servicelist/FormattedServiceListWriter.java\n",
      "Author: Sergey Beryozkin\n",
      "Author: Daniel Kulp\n",
      "Author: reta\n",
      "Author: Colm O Heigeartaigh\n",
      "Author: Freeman Yue Fang\n",
      "Author: Christian Schneider\n",
      "Author: J. Daniel Kulp\n",
      "Author: Colm O hEigeartaigh\n",
      "Total:  8\n",
      "\n",
      "\n",
      "rt/transports/http/src/main/java/org/apache/cxf/transport/servlet/servicelist/ServiceListGeneratorServlet.java\n",
      "Author: Sergey Beryozkin\n",
      "Author: Daniel Kulp\n",
      "Author: Colm O Heigeartaigh\n",
      "Author: Freeman Yue Fang\n",
      "Author: Christian Schneider\n",
      "Author: J. Daniel Kulp\n",
      "Author: Colm O hEigeartaigh\n",
      "Total:  7\n",
      "\n",
      "\n",
      "systests/jaxrs/src/test/java/org/apache/cxf/systest/jaxrs/JAXRSClientServerSpringBookTest.java\n",
      "Author: Benson Margulies\n",
      "Author: Sergey Beryozkin\n",
      "Author: Daniel Kulp\n",
      "Author: Peter Jones\n",
      "Author: Akitoshi Yoshida\n",
      "Author: Willem Ning Jiang\n",
      "Author: J. Daniel Kulp\n",
      "Author: Colm O hEigeartaigh\n",
      "Total:  8\n",
      "\n",
      "\n"
     ]
    }
   ],
   "source": [
    "for file in commit.stats.files:\n",
    "    count=0\n",
    "    firstCommit=repo.git.log( \"--diff-filter=A\", \"--\", file)\n",
    "    if \"commit\" in firstCommit:\n",
    "        \n",
    "        commitList=[]\n",
    "        firstCommit=firstCommit.split(\"\\n\")\n",
    "        firstCommit=firstCommit[0].split(\" \")\n",
    "        for line in repo.git.diff(\"--name-only\", fixingCommit, firstCommit[1]).splitlines():\n",
    "            if file in line:\n",
    "                print(file)\n",
    "                authorData = repo.git.log(\"--follow\", \"--pretty=%aN\", \"--\", line).splitlines()\n",
    "                for author in set(authorData):\n",
    "                    print(\"Author: %s\" %author)\n",
    "                    count = count + 1;\n",
    "                print(\"Total: \",count )\n",
    "                print(\"\\n\")\n",
    "# fileShowData = repo.git.diff( \"--name-only\", fixingCommit, previousCommit).splitlines()\n",
    "# count = 0\n",
    "\n",
    "# avg = count / len(fileShowData)"
   ]
  },
  {
   "cell_type": "markdown",
   "metadata": {},
   "source": [
    "# Task ‘k’:  For each developer identified, how many commits have each of them submitted?\n"
   ]
  },
  {
   "cell_type": "code",
   "execution_count": 31,
   "metadata": {},
   "outputs": [
    {
     "name": "stdout",
     "output_type": "stream",
     "text": [
      " Benson Margulies: 368\n",
      " Sergey Beryozkin: 3950\n",
      " Daniel Kulp: 4247\n",
      " Peter Jones: 6\n",
      " reta: 331\n",
      " Colm O Heigeartaigh: 1072\n",
      " Freeman Yue Fang: 279\n",
      " Christian Schneider: 362\n",
      " Akitoshi Yoshida: 488\n",
      " Willem Ning Jiang: 339\n",
      " J. Daniel Kulp: 2387\n",
      " Colm O hEigeartaigh: 1666\n"
     ]
    }
   ],
   "source": [
    "allAuthors = []\n",
    "count = 0\n",
    "for line in repo.git.diff(\"--name-only\", fixingCommit, previousCommit).splitlines():\n",
    "    allAuthors += repo.git.log(\"--follow\", \"--pretty=%aN\", \"--\", line).splitlines()\n",
    "allAuthors = list(set(allAuthors))\n",
    "log = repo.git.log(\"--pretty=%aN\")\n",
    "for author in allAuthors:\n",
    "    count = count + 1\n",
    "    print(\" %s: %d\" %(author, len(re.findall(author, log))))"
   ]
  },
  {
   "cell_type": "markdown",
   "metadata": {},
   "source": [
    "# VCC Analysis"
   ]
  },
  {
   "cell_type": "code",
   "execution_count": 32,
   "metadata": {},
   "outputs": [
    {
     "name": "stdout",
     "output_type": "stream",
     "text": [
      "***********DELETED COMMITS************\n",
      "Vulnerability Associated:  CVE-2016-6812\n",
      "File Associated:  rt/transports/http/src/main/java/org/apache/cxf/transport/servlet/servicelist/FormattedServiceListWriter.java\n",
      "Count of Commits: 1 , Commit: c81c39e97ad747eb7736e5a5ded40d8f9e5244db\n",
      "File Associated:  rt/transports/http/src/main/java/org/apache/cxf/transport/servlet/servicelist/ServiceListGeneratorServlet.java\n",
      "Count of Commits: 2 , Commit: 7a6724d694520dec427da89b92fdd13b79eadf45\n",
      "File Associated:  systests/jaxrs/src/test/java/org/apache/cxf/systest/jaxrs/JAXRSClientServerSpringBookTest.java\n",
      "Count of Commits: 1 , Commit: 7f75a2fc5a71f646d8647cf9b5e697f763e1edf2\n",
      "\n",
      "\n",
      "***********ADDED COMMITS************\n",
      "Vulnerability Associated:  CVE-2016-6812\n",
      "File Associated:  rt/transports/http/src/main/java/org/apache/cxf/transport/servlet/BaseUrlHelper.java\n",
      "Count of Commits: 1 , Commit: d563bd501f11afffc81de1f96b20ab47f448e344\n",
      "Count of Commits: 1 , Commit: c6f7ce92a7a7fbe9ce3d27a96d5718af1004271a\n",
      "Count of Commits: 3 , Commit: 1be97cb13aef121b799b1be4d9793c0e8b925a12\n",
      "File Associated:  rt/transports/http/src/main/java/org/apache/cxf/transport/servlet/servicelist/FormattedServiceListWriter.java\n",
      "Count of Commits: 1 , Commit: b76a2ee7c6c0adb587fca90708d461870413802d\n",
      "Count of Commits: 3 , Commit: c81c39e97ad747eb7736e5a5ded40d8f9e5244db\n",
      "Count of Commits: 1 , Commit: 1be97cb13aef121b799b1be4d9793c0e8b925a12\n",
      "File Associated:  rt/transports/http/src/main/java/org/apache/cxf/transport/servlet/servicelist/ServiceListGeneratorServlet.java\n",
      "Count of Commits: 6 , Commit: 7a6724d694520dec427da89b92fdd13b79eadf45\n",
      "Count of Commits: 4 , Commit: 1be97cb13aef121b799b1be4d9793c0e8b925a12\n",
      "File Associated:  systests/jaxrs/src/test/java/org/apache/cxf/systest/jaxrs/JAXRSClientServerSpringBookTest.java\n",
      "Count of Commits: 4 , Commit: 4e070f41dd35bfc748c1b4565cf5b038fa36f2dc\n",
      "Count of Commits: 6 , Commit: ^88a9451b92180609b7bb93d0314bc8384f0c24a4\n",
      "Count of Commits: 18 , Commit: 1be97cb13aef121b799b1be4d9793c0e8b925a12\n",
      "\n",
      "\n",
      "***********VCC COMMITS************\n",
      "CVE-2016-6812\n",
      "    * rt/transports/http/src/main/java/org/apache/cxf/transport/servlet/BaseUrlHelper.java\n",
      "Vulnerability Contributing Commit Count:  1  Commit:  d563bd501f11afffc81de1f96b20ab47f448e344\n",
      "    * rt/transports/http/src/main/java/org/apache/cxf/transport/servlet/servicelist/FormattedServiceListWriter.java\n",
      "Vulnerability Contributing Commit Count:  4  Commit:  c81c39e97ad747eb7736e5a5ded40d8f9e5244db\n",
      "    * rt/transports/http/src/main/java/org/apache/cxf/transport/servlet/servicelist/ServiceListGeneratorServlet.java\n",
      "Vulnerability Contributing Commit Count:  8  Commit:  7a6724d694520dec427da89b92fdd13b79eadf45\n",
      "    * systests/jaxrs/src/test/java/org/apache/cxf/systest/jaxrs/JAXRSClientServerSpringBookTest.java\n",
      "Vulnerability Contributing Commit Count:  6  Commit:  ^88a9451b92180609b7bb93d0314bc8384f0c24a4\n"
     ]
    }
   ],
   "source": [
    "def sanitize(modification):\n",
    "    line=modification\n",
    "    line=line.split('@@')[1]\n",
    "    line=line.replace('-','')\n",
    "    line=line.replace('+','')\n",
    "    line=line.replace(\" \",\",\")\n",
    "    line=line.split(\",\")\n",
    "    buffDel=[int(line[1]),int(line[1])+int(line[2])-1]\n",
    "    buffAdd=[int(line[3]),int(line[3])+int(line[4])-1]\n",
    "    linesDeleted.append(buffDel)\n",
    "    linesAdded.append(buffAdd)\n",
    "def enclosingScope(line,added_commits,fileComp):\n",
    "    fullCompleteIndex = (int(line[line.rfind(\" \", 0,line.find(\")\")):line.find(\")\")]) - 1)-1 \n",
    "    exited = False\n",
    "    noSkip = True\n",
    "    while fullCompleteIndex >= 0:\n",
    "        content = fileComp[fullCompleteIndex][line.find(\") \")+2:].strip()\n",
    "        if content.endswith(\"}\"):\n",
    "            noSkip = False\n",
    "        if content.endswith(\"{\") and not noSkip:\n",
    "            noSkip = True\n",
    "        elif content.endswith(\"{\") and noSkip:\n",
    "            hashedCode = repo.git.rev_parse(fileComp[fullCompleteIndex][:fileComp[fullCompleteIndex].find(\" \")])\n",
    "            if file in added_commits[\"CVE-2016-6812\"]:\n",
    "                added_commits[\"CVE-2016-6812\"][file].append(hashedCode)\n",
    "            else:\n",
    "                added_commits[\"CVE-2016-6812\"][file] = [hashedCode]\n",
    "            exited = True\n",
    "            break\n",
    "        fullCompleteIndex -= 1\n",
    "    if fullCompleteIndex < 0 and not exited:\n",
    "        hashedCode =repo.git.rev_parse(line[:line.find(\" \")])\n",
    "        if file in added_commits[\"CVE-2016-6812\"]:\n",
    "            added_commits[\"CVE-2016-6812\"][file].append(hashedCode)\n",
    "        else:\n",
    "            added_commits[\"CVE-2016-6812\"][file] = [hashedCode]            \n",
    "def hashCode(linesModifiedDictDup,foundFlag,line,file):\n",
    "    linesModifiedDictDup[\"CVE-2016-6812\"][file][\"deleted_lines\"].remove(foundFlag)\n",
    "    hashedCode = repo.git.rev_parse(line[:line.find(\" \")])\n",
    "    if file in commitsDeleted[\"CVE-2016-6812\"]:\n",
    "        commitsDeleted[\"CVE-2016-6812\"][file].append(hashedCode)\n",
    "    else:\n",
    "        commitsDeleted[\"CVE-2016-6812\"][file] = [hashedCode]\n",
    "def printLines(commitsDeletedOrAdded):\n",
    "    delAddCommitsNumb = {}\n",
    "    \n",
    "    for files in commitsDeletedOrAdded:\n",
    "        print(\"Vulnerability Associated: \", files)\n",
    "        delAddCommitsNumb[files] = {}\n",
    "        for file in commitsDeletedOrAdded[files]:\n",
    "\n",
    "            print(\"File Associated: \", file)\n",
    "            fileCommitNumb = Counter(commitsDeletedOrAdded[files][file])\n",
    "            if file in delAddCommitsNumb[files]:\n",
    "                delAddCommitsNumb[files][file].append(fileCommitNumb)\n",
    "            else:\n",
    "                delAddCommitsNumb[files][file] = [fileCommitNumb]\n",
    "            for commit, count in zip(fileCommitNumb.keys(), fileCommitNumb.values()):\n",
    "                print(\"Count of Commits:\", count, \", Commit:\", commit)\n",
    "        print(\"\\n\")\n",
    "repo = Repo(\"cxf/\")\n",
    "fixingCommit=\"1be97cb1\"\n",
    "previousCommit=fixingCommit+\"^1\"\n",
    "lineChanges={}\n",
    "showData = repo.git.diff(\"--name-only\", fixingCommit, previousCommit).splitlines()\n",
    "files=showData\n",
    "lineChanges = {}\n",
    "lineChanges[\"\"]={}\n",
    "linesModifiedBetween = {}\n",
    "linesModifiedBetween[\"CVE-2016-6812\"] = {}\n",
    "for file in files:\n",
    "    showData = repo.git.show(fixingCommit, \"--\", file).splitlines()\n",
    "    linesAdded = []\n",
    "    linesDeleted = []\n",
    "    for modification in showData:\n",
    "        if \"@@\" in modification:\n",
    "            sanitize(modification)\n",
    "    linesModifiedBetween[\"CVE-2016-6812\"][file] = {\"added_ranges\": linesAdded, \"deleted_ranges\": linesDeleted}\n",
    "linesModifiedDict = {}\n",
    "linesModifiedDict[\"CVE-2016-6812\"] = {}\n",
    "for file in files:\n",
    "    showData = repo.git.show(fixingCommit, \"--\", file).splitlines()\n",
    "    linesAddedAsCode = []\n",
    "    linesDeletedAsCode = []\n",
    "    for lines in showData:\n",
    "        if lines.startswith('+') and not lines.startswith('+++'):\n",
    "            linesAddedAsCode.append(lines)\n",
    "        elif lines.startswith('-') and not lines.startswith('---'):\n",
    "            linesDeletedAsCode.append(lines)\n",
    "    linesModifiedDict[\"CVE-2016-6812\"][file] = {\"added_lines\": linesAddedAsCode, \"deleted_lines\": linesDeletedAsCode}\n",
    "linesModifiedDictDup = copy.deepcopy(linesModifiedDict)\n",
    "commitsDeleted = {}\n",
    "commitsDeleted[\"CVE-2016-6812\"] = {}\n",
    "for file in linesModifiedBetween[\"CVE-2016-6812\"]:\n",
    "    for deletedLines in linesModifiedBetween[\"CVE-2016-6812\"][file][\"deleted_ranges\"]:\n",
    "        blamedShowData = repo.git.blame(previousCommit, \"-L\", str(deletedLines[0])+\",\"+str(deletedLines[1]), \"--\", file).splitlines()\n",
    "        for line in blamedShowData:\n",
    "            blamedLineShowData = line.partition(\") \")[2].strip()\n",
    "            foundFlag = None\n",
    "            for deletedLineCode in linesModifiedDictDup[\"CVE-2016-6812\"][file][\"deleted_lines\"]:\n",
    "                if blamedLineShowData in deletedLineCode[2:]:\n",
    "                    foundFlag = deletedLineCode\n",
    "                    break\n",
    "            if foundFlag != None:\n",
    "                hashCode(linesModifiedDictDup,foundFlag,line,file)\n",
    "\n",
    "print(\"***********DELETED COMMITS************\")               \n",
    "printLines(commitsDeleted)\n",
    "linesModifiedDictDup = copy.deepcopy(linesModifiedDict)\n",
    "added_commits = {}\n",
    "added_commits[\"CVE-2016-6812\"] = {}\n",
    "for file in linesModifiedBetween[\"CVE-2016-6812\"]:\n",
    "    fileComp = repo.git.blame(fixingCommit, \"--\", file).splitlines()\n",
    "    for linesAdded in linesModifiedBetween[\"CVE-2016-6812\"][file][\"added_ranges\"]:\n",
    "        blamedShowData = repo.git.blame(fixingCommit, \"-L\", str(linesAdded[0])+\",\"+str(linesAdded[1]), \"--\", file).splitlines()\n",
    "        for line in blamedShowData:\n",
    "            blamedLineShowData = line[line.find(\") \")+2:].strip()\n",
    "            foundFlag= None\n",
    "            for linesAdded in linesModifiedDictDup[\"CVE-2016-6812\"][file][\"added_lines\"]:\n",
    "                if blamedLineShowData in linesAdded[2:]:\n",
    "                    foundFlag = linesAdded\n",
    "                    break\n",
    "            if foundFlag != None:\n",
    "                linesModifiedDictDup[\"CVE-2016-6812\"][file][\"added_lines\"].remove(foundFlag)\n",
    "                # Finding smallest enclosing scope\n",
    "                enclosingScope(line,added_commits,fileComp)\n",
    "print(\"***********ADDED COMMITS************\")\n",
    "printLines(added_commits)\n",
    "VCC = {}\n",
    "VCCCommits=[]\n",
    "print(\"***********VCC COMMITS************\")\n",
    "# Counting commits\n",
    "for v in commitsDeleted:\n",
    "    VCC[v] = {}\n",
    "    print(v)\n",
    "    for f in added_commits[v]:\n",
    "        print(\"    *\", f)\n",
    "        if f in commitsDeleted[v] and f in added_commits[v]:\n",
    "            counted_commits = Counter(commitsDeleted[v][f]+added_commits[v][f])\n",
    "        elif f in commitsDeleted[v] and f not in added_commits[v]:\n",
    "            counted_commits = Counter(commitsDeleted[v][f])\n",
    "        elif f not in commitsDeleted[v] and f in added_commits[v]:\n",
    "            counted_commits = Counter(added_commits[v][f])\n",
    "        VCC[v][f] = {\"count\": 0, \"commit\": \"\"}\n",
    "        for commit, count in zip(counted_commits.keys(), counted_commits.values()):\n",
    "            if (count > VCC[v][f][\"count\"]):\n",
    "                if commit != \"1be97cb13aef121b799b1be4d9793c0e8b925a12\":\n",
    "                    VCC[v][f] = {\"count\": count, \"commit\": commit}\n",
    "            elif (count == VCC[v][f][\"count\"]):\n",
    "                if commit!= \"1be97cb13aef121b799b1be4d9793c0e8b925a12\":\n",
    "                    VCC[v][f][\"count\"]=count\n",
    "        VCCCommits.append(VCC[v][f][\"commit\"])  \n",
    "        print(\"Vulnerability Contributing Commit Count: \", VCC[v][f][\"count\"], \" Commit: \", VCC[v][f][\"commit\"])"
   ]
  },
  {
   "cell_type": "code",
   "execution_count": null,
   "metadata": {},
   "outputs": [],
   "source": []
  },
  {
   "attachments": {},
   "cell_type": "markdown",
   "metadata": {},
   "source": [
    "# Task ‘4.a’: Is the current VCC an initial commit?\n"
   ]
  },
  {
   "cell_type": "code",
   "execution_count": 33,
   "metadata": {},
   "outputs": [
    {
     "name": "stdout",
     "output_type": "stream",
     "text": [
      "Parent commit exists, as such it isn't an initial commit!\n"
     ]
    }
   ],
   "source": [
    "for VCC in VCCCommits:\n",
    "    if VCC[0]=='^':\n",
    "        VCC=VCC[1:]\n",
    "    try:\n",
    "        VCCParent= repo.git.show(VCC+\"^\").splitlines()\n",
    "    except: \n",
    "        pass\n",
    "print(\"Parent commit exists, as such it isn't an initial commit!\")"
   ]
  },
  {
   "attachments": {},
   "cell_type": "markdown",
   "metadata": {},
   "source": [
    "# Task ‘4.b’: Is the developer of the current fixing commit and its corresponding VCC the same? If not, give your reflections on the difference in their experience.\n"
   ]
  },
  {
   "cell_type": "code",
   "execution_count": 34,
   "metadata": {},
   "outputs": [
    {
     "name": "stdout",
     "output_type": "stream",
     "text": [
      "sberyozkin@gmail.com\n",
      "Yes! fixing commit author: sberyozkin@gmail.com is same in commit: d563bd501f11afffc81de1f96b20ab47f448e344\n",
      "No! fixing commit author: sberyozkin@gmail.com not same in commit: c81c39e97ad747eb7736e5a5ded40d8f9e5244db\n",
      "No! fixing commit author: sberyozkin@gmail.com not same in commit: 7a6724d694520dec427da89b92fdd13b79eadf45\n",
      "No! fixing commit author: sberyozkin@gmail.com not same in commit: 7a6724d694520dec427da89b92fdd13b79eadf45\n"
     ]
    }
   ],
   "source": [
    "commit=repo.commit(fixingCommit)\n",
    "fixinCommitAuthor=commit.author.email\n",
    "print(fixinCommitAuthor)\n",
    "for commits in VCCCommits:\n",
    "    if VCC[0]=='^':\n",
    "        VCC=VCC[1:]\n",
    "    try:\n",
    "        VCCcommit=repo.commit(commits)\n",
    "        VCCCommitAuthor=VCCcommit.author.email\n",
    "    except:\n",
    "        pass\n",
    "    if(fixinCommitAuthor==VCCCommitAuthor):\n",
    "        print(\"Yes! fixing commit author: {} is same in commit: {}\".format(fixinCommitAuthor,VCCcommit))\n",
    "    else:\n",
    "        print(\"No! fixing commit author: {} not same in commit: {}\".format(fixinCommitAuthor,VCCcommit))"
   ]
  },
  {
   "attachments": {},
   "cell_type": "markdown",
   "metadata": {},
   "source": [
    "# Task ‘4.c’: How many days were between the current fixing commit and its corresponding VCC? Is the current VCC fixed immediately\n"
   ]
  },
  {
   "cell_type": "code",
   "execution_count": 35,
   "metadata": {},
   "outputs": [
    {
     "name": "stdout",
     "output_type": "stream",
     "text": [
      "Fixing commit 1be97cb13aef121b799b1be4d9793c0e8b925a12 and VCC commit d563bd501f11afffc81de1f96b20ab47f448e344 was fixed in 41 days, 0:00:00 \n",
      "Fixing commit 1be97cb13aef121b799b1be4d9793c0e8b925a12 and VCC commit c81c39e97ad747eb7736e5a5ded40d8f9e5244db was fixed in 1957 days, 0:00:00 \n",
      "Fixing commit 1be97cb13aef121b799b1be4d9793c0e8b925a12 and VCC commit 7a6724d694520dec427da89b92fdd13b79eadf45 was fixed in 2108 days, 0:00:00 \n"
     ]
    }
   ],
   "source": [
    "from datetime import datetime\n",
    "commit=repo.commit(fixingCommit)\n",
    "fixinCommitAuthor=commit.author.email\n",
    "dateFixing=repo.git.show(\"-s\",\"--format=%ci\",commit).split(\" \")\n",
    "dateFixing=dateFixing[0]\n",
    "dateFixing=datetime.strptime(\"{}\".format(dateFixing), '%Y-%m-%d').date()\n",
    "time_different = 0\n",
    "sum = 0\n",
    "count = 0\n",
    "for commits in VCCCommits:\n",
    "    try:\n",
    "        date=repo.git.show(\"-s\",\"--format=%ci\",commits).split(\" \")\n",
    "        date=date[0]\n",
    "        date= datetime.strptime(\"{}\".format(date), '%Y-%m-%d').date()\n",
    "        days=dateFixing-date\n",
    "        print(\"Fixing commit {} and VCC commit {} was fixed in {} \".format(commit,commits,days))\n",
    "    except:\n",
    "        pass\n",
    "    \n",
    "    "
   ]
  },
  {
   "attachments": {},
   "cell_type": "markdown",
   "metadata": {},
   "source": [
    "# Task ‘4.d’: If the current VCC is not fixed immediately (within the same day), was there any other vulnerability, bug or special request happening between the current fixing commit and VCC that might require higher priority?"
   ]
  },
  {
   "cell_type": "markdown",
   "metadata": {},
   "source": [
    "# 1.\tCVE-ID: CVE-2018-1313\n",
    "# 2.\tProject Link: https://github.com/apache/derby\n",
    "# 3.\tProvided Fixing Commit: a2027c64e185a9ce46929f352e2db03371c1f95"
   ]
  },
  {
   "cell_type": "code",
   "execution_count": 36,
   "metadata": {},
   "outputs": [],
   "source": [
    "import numpy as np\n",
    "import pandas as pd\n",
    "import os\n",
    "import re\n",
    "\n",
    "# Specify git executable file for GitPython in Jupyter Notebook (In IDE, it can still work without this line.)\n",
    "os.environ[\"GIT_PYTHON_REFRESH\"] = \"quiet\"\n",
    "\n",
    "import git\n",
    "from git import RemoteProgress\n",
    "\n",
    "from git import Repo\n",
    "import matplotlib.pyplot as plt\n",
    "import seaborn as sns\n",
    "%matplotlib inline"
   ]
  },
  {
   "cell_type": "code",
   "execution_count": 37,
   "metadata": {},
   "outputs": [],
   "source": [
    "repo = Repo(\"derby/\")\n",
    "fixingCommit=\"a2027c64e185a9ce46929f352e2db03371c1f95\"\n",
    "commit=repo.commit(fixingCommit)\n",
    "previousCommit = fixingCommit + '^'"
   ]
  },
  {
   "cell_type": "markdown",
   "metadata": {},
   "source": [
    "# Task ‘a’: What was the message and title of the fixing commit? Was there any mention of fixing a bug or vulnerability?\n"
   ]
  },
  {
   "cell_type": "code",
   "execution_count": 38,
   "metadata": {},
   "outputs": [
    {
     "name": "stdout",
     "output_type": "stream",
     "text": [
      "'    Remove support for COMMAND_TESTCONNECTION connectToDatabase feature.'\n",
      "['    It was never documented, and was never part of the regression tests.',\n",
      " '    ',\n",
      " '    A new regression test demonstrates that attempting to use this feature',\n",
      " '    now results in a \"usage\" response from the Network Server.',\n",
      " '    ',\n",
      " \"    Also, change the Network Server's default security policy file, as well\",\n",
      " '    as the template security policy file that we distribute with the',\n",
      " '    release and in the documentation. The new policy files do not use',\n",
      " '    the <<ALL FILES>> permission; instead they restrict the permission',\n",
      " '    to certain directories only.',\n",
      " '    ',\n",
      " '    Also, change the implementation of the Network Server\\'s \"sysinfo\"',\n",
      " '    sub-command. Prior to this change, that feature would open each',\n",
      " \"    jar file on the Network Server's class path, and would report on\",\n",
      " '    whatever information it could find about that jar file. Now, the',\n",
      " '    only jar files that are opened and reported on are the known Derby',\n",
      " '    jar files; a table of those jar file names is compiled into the',\n",
      " '    sysinfo command. This causes sysinfo to return less information,',\n",
      " '    but it also means that it only needs the permission to access the',\n",
      " '    known Derby jar files on the classpath.',\n",
      " '    ',\n",
      " '    ',\n",
      " '    git-svn-id: '\n",
      " 'https://svn.apache.org/repos/asf/db/derby/code/branches/10.14@1826467 '\n",
      " '13f79535-47bb-0310-9956-ffa450edef68']\n"
     ]
    }
   ],
   "source": [
    "import pprint as pprint\n",
    "show_data = repo.git.show(\"-s\", fixingCommit).splitlines()\n",
    "pprint.pprint(show_data[4])\n",
    "pprint.pprint(show_data[5:])\n"
   ]
  },
  {
   "cell_type": "markdown",
   "metadata": {},
   "source": [
    "# Task ‘b’: How many total files were affected in the fixing commit?\n"
   ]
  },
  {
   "cell_type": "code",
   "execution_count": 39,
   "metadata": {},
   "outputs": [
    {
     "name": "stdout",
     "output_type": "stream",
     "text": [
      "' 8 files changed, 222 insertions(+), 74 deletions(-)'\n"
     ]
    }
   ],
   "source": [
    "import pprint as pprint\n",
    "totalFilesAffected = repo.git.show(\"--stat\", \"a2027c64e185a9ce46929f352e2db03371c1f95\").splitlines()\n",
    "\n",
    "pprint.pprint(totalFilesAffected[-1])"
   ]
  },
  {
   "cell_type": "markdown",
   "metadata": {},
   "source": [
    "# Task ‘c’: How many total directories were affected in the fixing commit?\n"
   ]
  },
  {
   "cell_type": "code",
   "execution_count": 40,
   "metadata": {},
   "outputs": [
    {
     "name": "stdout",
     "output_type": "stream",
     "text": [
      "['commit a2027c64e185a9ce46929f352e2db03371c1f95b',\n",
      " 'Author: Bryan Pendleton <bpendleton@apache.org>',\n",
      " 'Date:   Sun Mar 11 21:50:26 2018 +0000',\n",
      " '',\n",
      " '    Remove support for COMMAND_TESTCONNECTION connectToDatabase feature.',\n",
      " '    It was never documented, and was never part of the regression tests.',\n",
      " '    ',\n",
      " '    A new regression test demonstrates that attempting to use this feature',\n",
      " '    now results in a \"usage\" response from the Network Server.',\n",
      " '    ',\n",
      " \"    Also, change the Network Server's default security policy file, as well\",\n",
      " '    as the template security policy file that we distribute with the',\n",
      " '    release and in the documentation. The new policy files do not use',\n",
      " '    the <<ALL FILES>> permission; instead they restrict the permission',\n",
      " '    to certain directories only.',\n",
      " '    ',\n",
      " '    Also, change the implementation of the Network Server\\'s \"sysinfo\"',\n",
      " '    sub-command. Prior to this change, that feature would open each',\n",
      " \"    jar file on the Network Server's class path, and would report on\",\n",
      " '    whatever information it could find about that jar file. Now, the',\n",
      " '    only jar files that are opened and reported on are the known Derby',\n",
      " '    jar files; a table of those jar file names is compiled into the',\n",
      " '    sysinfo command. This causes sysinfo to return less information,',\n",
      " '    but it also means that it only needs the permission to access the',\n",
      " '    known Derby jar files on the classpath.',\n",
      " '    ',\n",
      " '    ',\n",
      " '    git-svn-id: '\n",
      " 'https://svn.apache.org/repos/asf/db/derby/code/branches/10.14@1826467 '\n",
      " '13f79535-47bb-0310-9956-ffa450edef68',\n",
      " '',\n",
      " ' .../apache/derby/drda/NetworkServerControl.java    |  24 ++--',\n",
      " ' java/drda/org/apache/derby/drda/server.policy      |  24 ++--',\n",
      " ' java/drda/org/apache/derby/drda/template.policy    |  18 ++-',\n",
      " ' .../derby/impl/drda/NetworkServerControlImpl.java  |  48 +-------',\n",
      " ' .../org/apache/derby/iapi/reference/Property.java  |   1 +',\n",
      " ' .../derbynet/NetworkServerControlApiTest.java      | 136 '\n",
      " '+++++++++++++++++++++',\n",
      " ' .../derbynet/NetworkServerControlApiTest.policy    |   4 +',\n",
      " ' .../org/apache/derby/impl/tools/sysinfo/Main.java  |  41 +++++++',\n",
      " ' 8 files changed, 222 insertions(+), 74 deletions(-)']\n",
      "java/drda/org/apache/derby/drda/NetworkServerControl.java\n",
      "java/drda/org/apache/derby/drda/server.policy\n",
      "java/drda/org/apache/derby/drda/template.policy\n",
      "java/drda/org/apache/derby/impl/drda/NetworkServerControlImpl.java\n",
      "java/engine/org/apache/derby/iapi/reference/Property.java\n",
      "java/testing/org/apache/derbyTesting/functionTests/tests/derbynet/NetworkServerControlApiTest.java\n",
      "java/testing/org/apache/derbyTesting/functionTests/tests/derbynet/NetworkServerControlApiTest.policy\n",
      "java/tools/org/apache/derby/impl/tools/sysinfo/Main.java\n",
      "Total Directories Affected:  8\n"
     ]
    }
   ],
   "source": [
    "totalDirectoriesAffectedContent = repo.git.show(\"--stat\", \"a2027c64e185a9ce46929f352e2db03371c1f95\").splitlines()\n",
    "directoriesAffected=set()\n",
    "count=0\n",
    "pprint.pprint(totalDirectoriesAffectedContent)\n",
    "for file in commit.stats.files:\n",
    "    print(file)\n",
    "    count=count+1\n",
    "    \n",
    "print(\"Total Directories Affected: \",count)"
   ]
  },
  {
   "cell_type": "markdown",
   "metadata": {},
   "source": [
    "# Task 'd': How many total lines of code (including comments and blank lines) were deleted?\n"
   ]
  },
  {
   "cell_type": "code",
   "execution_count": 41,
   "metadata": {},
   "outputs": [
    {
     "name": "stdout",
     "output_type": "stream",
     "text": [
      "'Total lines DELETED including comments and blank lines: , 74 deletions(-)'\n"
     ]
    }
   ],
   "source": [
    "totalLinesDeletedInc = repo.git.show(\"--stat\", \"a2027c64e185a9ce46929f352e2db03371c1f95\").splitlines()\n",
    "\n",
    "pprint.pprint(\"Total lines DELETED including comments and blank lines: \"+totalLinesDeletedInc[-1][35:])"
   ]
  },
  {
   "cell_type": "markdown",
   "metadata": {},
   "source": [
    "# Task 'e': How many total lines of code (including comments and blank lines) were added?\n"
   ]
  },
  {
   "cell_type": "code",
   "execution_count": 42,
   "metadata": {
    "scrolled": true
   },
   "outputs": [
    {
     "name": "stdout",
     "output_type": "stream",
     "text": [
      "'Total lines ADDED including comments and blank lines: 222 insertions(+'\n"
     ]
    }
   ],
   "source": [
    "totalLinesAddedInc = repo.git.show(\"--stat\", \"a2027c64e185a9ce46929f352e2db03371c1f95\").splitlines()\n",
    "\n",
    "pprint.pprint(\"Total lines ADDED including comments and blank lines: \"+totalLinesAddedInc[-1][18:34])"
   ]
  },
  {
   "cell_type": "markdown",
   "metadata": {},
   "source": [
    "# Task 'f': How many total lines of code (excluding comments and blank lines) were deleted?\n"
   ]
  },
  {
   "cell_type": "code",
   "execution_count": 43,
   "metadata": {},
   "outputs": [
    {
     "name": "stdout",
     "output_type": "stream",
     "text": [
      "Lines Deleted (excluding comments and blank lines): 48\n"
     ]
    }
   ],
   "source": [
    "def getSum():\n",
    "    getSum.bufferStore=0\n",
    "    for line in deletedLineShowData:\n",
    "        if re.compile('^-$|^-[^-]').match(line):\n",
    "            getSum.bufferStore = getSum.bufferStore+1\n",
    "            if re.compile('^[-|\\+]\\s*\\*').match(line):\n",
    "                getSum.bufferStore = getSum.bufferStore-1\n",
    "            if re.compile('^[-|\\+]\\s*\\/\\/').match(line):\n",
    "                getSum.bufferStore = getSum.bufferStore-1\n",
    "deletedLineShowData = repo.git.diff(\"--ignore-blank-lines\",previousCommit, fixingCommit).splitlines()\n",
    "getSum()\n",
    "print(\"Lines Deleted (excluding comments and blank lines): %d\" %getSum.bufferStore)"
   ]
  },
  {
   "cell_type": "markdown",
   "metadata": {},
   "source": [
    "# Task 'g': How many total lines of code (excluding comments and blank lines) were added?\n"
   ]
  },
  {
   "cell_type": "code",
   "execution_count": 44,
   "metadata": {},
   "outputs": [
    {
     "name": "stdout",
     "output_type": "stream",
     "text": [
      "Lines Added (excluding comments and blank lines): 193\n"
     ]
    }
   ],
   "source": [
    "def getDiff():\n",
    "    getDiff.bufferStore=0\n",
    "    for line in addLineShowData:\n",
    "        if re.compile('^\\+$|^\\+[^\\+]').match(line):\n",
    "            getDiff.bufferStore = getDiff.bufferStore+1\n",
    "            if re.compile('^[-|\\+]\\s*\\*').match(line):\n",
    "                getDiff.bufferStore = getDiff.bufferStore-1\n",
    "            if re.compile('^[-|\\+]\\s*\\/\\/').match(line):\n",
    "                getDiff.bufferStore = getDiff.bufferStore-1\n",
    "addLineShowData = repo.git.diff(\"--ignore-blank-lines\",previousCommit, fixingCommit).splitlines()\n",
    "getDiff()\n",
    "print(\"Lines Added (excluding comments and blank lines): %d\" %getDiff.bufferStore)"
   ]
  },
  {
   "cell_type": "markdown",
   "metadata": {},
   "source": [
    "# Task ‘h’: How many days were between the current fixing commit and the previous commit of each affected file?\n"
   ]
  },
  {
   "cell_type": "code",
   "execution_count": 45,
   "metadata": {},
   "outputs": [],
   "source": [
    "# from datetime import datetime\n",
    "# from datetime import date\n",
    "# DateOfFixingCommit = repo.git.log(\"-1\" ,\"--format=\\\"%ai\\\"\", \"ea604f84e4a21fe081d66bbdab454b1e8a7d09b3\",\"--\",\"applications/content/src/org/ofbiz/content/content/ContentWorker.java\").splitlines()\n",
    "# DateOfFixingCommit=DateOfFixingCommit[0][1:11]\n",
    "# DateOfPrevCommit = repo.git.log(\"-1\" ,\"--format=\\\"%ai\\\"\",\"-p\",\"ea604f84e4a21fe081d66bbdab454b1e8a7d09b3^\",\"--\",\"applications/content/src/org/ofbiz/content/content/ContentWorker.java\").splitlines()\n",
    "# DateOfPrevCommit=DateOfPrevCommit[0][1:11]\n",
    "# DateOfPrevCommit= datetime.strptime(DateOfPrevCommit,\"%Y-%m-%d\")\n",
    "# DateOfFixingCommit= datetime.strptime(DateOfFixingCommit,\"%Y-%m-%d\")\n",
    "# Days=(DateOfFixingCommit-DateOfPrevCommit).days\n",
    "# print(Days,\"Days\")"
   ]
  },
  {
   "cell_type": "markdown",
   "metadata": {},
   "source": [
    "# Task ‘I’: How many time has each affected file of the current fixing commit been modified in the past since their creation (including rename of the file)?\n"
   ]
  },
  {
   "cell_type": "code",
   "execution_count": 46,
   "metadata": {},
   "outputs": [],
   "source": [
    "# Commits=repo.git.log(\"--follow\",\"ea604f84e4a21fe081d66bbdab454b1e8a7d09b3\",\"--\",\"applications/content/src/org/ofbiz/content/content/ContentWorker.java\")\n",
    "# print(Commits.count('commit'))"
   ]
  },
  {
   "cell_type": "markdown",
   "metadata": {},
   "source": [
    "# Task ‘j’: Which developers have modified each affected file since its creation?\n"
   ]
  },
  {
   "cell_type": "code",
   "execution_count": 47,
   "metadata": {},
   "outputs": [
    {
     "name": "stdout",
     "output_type": "stream",
     "text": [
      "java/drda/org/apache/derby/drda/NetworkServerControl.java\n",
      "Author: Dyre Tjeldvoll\n",
      "Author: Katherine Marsden\n",
      "Author: Richard N. Hillegas\n",
      "Author: Myrna van Lunteren\n",
      "Author: Samuel Andrew McIntyre\n",
      "Author: Bryan Pendleton\n",
      "Author: Dag H. Wanvik\n",
      "Author: Tomohito Nakayama\n",
      "Author: Jeremy Boynes\n",
      "Author: Ken Coar\n",
      "Author: Bernt Johnsen\n",
      "Author: Daniel John Debrunner\n",
      "Author: Oyvind Bakksjo\n",
      "Author: Knut Anders Hatlen\n",
      "Total:  14\n",
      "\n",
      "\n",
      "java/drda/org/apache/derby/drda/server.policy\n",
      "Author: Katherine Marsden\n",
      "Author: Richard N. Hillegas\n",
      "Author: Dag H. Wanvik\n",
      "Author: Bryan Pendleton\n",
      "Author: Kristian Waagan\n",
      "Author: John Herman Embretsen\n",
      "Author: Camilla Haase\n",
      "Author: Daniel John Debrunner\n",
      "Author: Knut Anders Hatlen\n",
      "Total:  9\n",
      "\n",
      "\n",
      "java/drda/org/apache/derby/drda/template.policy\n",
      "Author: Katherine Marsden\n",
      "Author: Richard N. Hillegas\n",
      "Author: Myrna van Lunteren\n",
      "Author: Dag H. Wanvik\n",
      "Author: Bryan Pendleton\n",
      "Author: Kristian Waagan\n",
      "Author: John Herman Embretsen\n",
      "Author: Camilla Haase\n",
      "Author: Daniel John Debrunner\n",
      "Author: Knut Anders Hatlen\n",
      "Total:  10\n",
      "\n",
      "\n",
      "java/drda/org/apache/derby/impl/drda/NetworkServerControlImpl.java\n",
      "Author: Mamta Satoor\n",
      "Author: Mike Matrigali\n",
      "Author: Katherine Marsden\n",
      "Author: Richard N. Hillegas\n",
      "Author: Myrna van Lunteren\n",
      "Author: Samuel Andrew McIntyre\n",
      "Author: Dag H. Wanvik\n",
      "Author: Bryan Pendleton\n",
      "Author: Jeremy Boynes\n",
      "Author: Bernt Johnsen\n",
      "Author: Tiago Aurélio Rodrigues Espinha\n",
      "Author: Daniel John Debrunner\n",
      "Author: David Van Couvering\n",
      "Author: Thomas Nielsen\n",
      "Author: Oyvind Bakksjo\n",
      "Author: Knut Anders Hatlen\n",
      "Author: Oystein Grovlen\n",
      "Total:  17\n",
      "\n",
      "\n",
      "java/engine/org/apache/derby/iapi/reference/Property.java\n",
      "Author: Mamta Satoor\n",
      "Author: Mike Matrigali\n",
      "Author: Katherine Marsden\n",
      "Author: Richard N. Hillegas\n",
      "Author: Samuel Andrew McIntyre\n",
      "Author: Ken Coar\n",
      "Author: Dag H. Wanvik\n",
      "Author: Kristian Waagan\n",
      "Author: Lily Wei\n",
      "Author: Tomohito Nakayama\n",
      "Author: Bernt Johnsen\n",
      "Author: Daniel John Debrunner\n",
      "Author: David Van Couvering\n",
      "Author: Satheesh E. Bandaram\n",
      "Author: Oyvind Bakksjo\n",
      "Author: Knut Anders Hatlen\n",
      "Total:  16\n",
      "\n",
      "\n",
      "java/testing/org/apache/derbyTesting/functionTests/tests/derbynet/NetworkServerControlApiTest.java\n",
      "Author: Katherine Marsden\n",
      "Author: Richard N. Hillegas\n",
      "Author: Dag H. Wanvik\n",
      "Author: Bryan Pendleton\n",
      "Author: Thomas Nielsen\n",
      "Author: Knut Anders Hatlen\n",
      "Total:  6\n",
      "\n",
      "\n",
      "java/testing/org/apache/derbyTesting/functionTests/tests/derbynet/NetworkServerControlApiTest.policy\n",
      "Author: Mamta Satoor\n",
      "Author: Mike Matrigali\n",
      "Author: Katherine Marsden\n",
      "Author: Richard N. Hillegas\n",
      "Author: Myrna van Lunteren\n",
      "Author: Samuel Andrew McIntyre\n",
      "Author: Dag H. Wanvik\n",
      "Author: Bryan Pendleton\n",
      "Author: Kristian Waagan\n",
      "Author: Daniel John Debrunner\n",
      "Author: Thomas Nielsen\n",
      "Author: Army\n",
      "Author: Knut Anders Hatlen\n",
      "Total:  13\n",
      "\n",
      "\n",
      "java/tools/org/apache/derby/impl/tools/sysinfo/Main.java\n",
      "Author: Katherine Marsden\n",
      "Author: Richard N. Hillegas\n",
      "Author: Myrna van Lunteren\n",
      "Author: Samuel Andrew McIntyre\n",
      "Author: Dag H. Wanvik\n",
      "Author: Bryan Pendleton\n",
      "Author: Lily Wei\n",
      "Author: Ken Coar\n",
      "Author: Daniel John Debrunner\n",
      "Author: David Van Couvering\n",
      "Author: Oyvind Bakksjo\n",
      "Author: Knut Anders Hatlen\n",
      "Total:  12\n",
      "\n",
      "\n"
     ]
    }
   ],
   "source": [
    "for file in commit.stats.files:\n",
    "    count=0\n",
    "    firstCommit=repo.git.log( \"--diff-filter=A\", \"--\", file)\n",
    "    if \"commit\" in firstCommit:\n",
    "        \n",
    "        commitList=[]\n",
    "        firstCommit=firstCommit.split(\"\\n\")\n",
    "        firstCommit=firstCommit[0].split(\" \")\n",
    "        for line in repo.git.diff(\"--name-only\", fixingCommit, firstCommit[1]).splitlines():\n",
    "            if file in line:\n",
    "                print(file)\n",
    "                authorData = repo.git.log(\"--follow\", \"--pretty=%aN\", \"--\", line).splitlines()\n",
    "                for author in set(authorData):\n",
    "                    print(\"Author: %s\" %author)\n",
    "                    count = count + 1;\n",
    "                print(\"Total: \",count )\n",
    "                print(\"\\n\")\n",
    "# fileShowData = repo.git.diff( \"--name-only\", fixingCommit, previousCommit).splitlines()\n",
    "# count = 0\n",
    "\n",
    "# avg = count / len(fileShowData)"
   ]
  },
  {
   "cell_type": "markdown",
   "metadata": {},
   "source": [
    "# Task ‘k’:  For each developer identified, how many commits have each of them submitted?\n"
   ]
  },
  {
   "cell_type": "code",
   "execution_count": 48,
   "metadata": {
    "scrolled": true
   },
   "outputs": [
    {
     "name": "stdout",
     "output_type": "stream",
     "text": [
      " Mike Matrigali: 300\n",
      " Katherine Marsden: 652\n",
      " Myrna van Lunteren: 453\n",
      " Ken Coar: 4\n",
      " Kristian Waagan: 640\n",
      " Tomohito Nakayama: 39\n",
      " Jeremy Boynes: 19\n",
      " Knut Anders Hatlen: 1527\n",
      " Richard N. Hillegas: 1308\n",
      " Bryan Pendleton: 243\n",
      " Tiago Aurélio Rodrigues Espinha: 10\n",
      " Oystein Grovlen: 81\n",
      " Mamta Satoor: 300\n",
      " Samuel Andrew McIntyre: 412\n",
      " Dag H. Wanvik: 404\n",
      " Lily Wei: 28\n",
      " John Herman Embretsen: 4\n",
      " Camilla Haase: 13\n",
      " Bernt Johnsen: 76\n",
      " Daniel John Debrunner: 1190\n",
      " David Van Couvering: 141\n",
      " Thomas Nielsen: 2\n",
      " Army: 74\n",
      " Dyre Tjeldvoll: 48\n",
      " Satheesh E. Bandaram: 177\n",
      " Oyvind Bakksjo: 10\n"
     ]
    }
   ],
   "source": [
    "allAuthors = []\n",
    "count = 0\n",
    "for line in repo.git.diff(\"--name-only\", fixingCommit, previousCommit).splitlines():\n",
    "    allAuthors += repo.git.log(\"--follow\", \"--pretty=%aN\", \"--\", line).splitlines()\n",
    "allAuthors = list(set(allAuthors))\n",
    "log = repo.git.log(\"--pretty=%aN\")\n",
    "for author in allAuthors:\n",
    "    count = count + 1\n",
    "    print(\" %s: %d\" %(author, len(re.findall(author, log))))"
   ]
  },
  {
   "cell_type": "markdown",
   "metadata": {},
   "source": [
    "# VCC Analysis"
   ]
  },
  {
   "cell_type": "code",
   "execution_count": 49,
   "metadata": {},
   "outputs": [
    {
     "name": "stdout",
     "output_type": "stream",
     "text": [
      "***********DELETED COMMITS************\n",
      "Vulnerability Associated:  CVE-2018-1313\n",
      "File Associated:  java/drda/org/apache/derby/drda/NetworkServerControl.java\n",
      "Count of Commits: 2 , Commit: eac036999fab0e9f9509022d833a1c99cad1b415\n",
      "Count of Commits: 3 , Commit: 0aa776920c2ba9699ff8ef0cc1b906523c7dab28\n",
      "Count of Commits: 2 , Commit: 69cf74986d04016b3a1c27815e6b854a09cce19b\n",
      "File Associated:  java/drda/org/apache/derby/drda/server.policy\n",
      "Count of Commits: 12 , Commit: 227dca6c86b7ff45ad02e3188f9b33b61b00002b\n",
      "Count of Commits: 1 , Commit: 1583d20800374ccfdf5d343c078b6c45661e3bf5\n",
      "Count of Commits: 3 , Commit: 63adae87bd5909785b2755e567cb1abee7c64c37\n",
      "Count of Commits: 1 , Commit: 83dd5e6e90e89cdd4174d8d51cb50eae0477aaf8\n",
      "File Associated:  java/drda/org/apache/derby/drda/template.policy\n",
      "Count of Commits: 3 , Commit: 227dca6c86b7ff45ad02e3188f9b33b61b00002b\n",
      "Count of Commits: 1 , Commit: 0a0ec5c1d88bbaeefef02545ae2f3e09ea4018cb\n",
      "Count of Commits: 1 , Commit: 63adae87bd5909785b2755e567cb1abee7c64c37\n",
      "Count of Commits: 1 , Commit: 2cf3dc4eed991080f0335b8c083110b119cc0650\n",
      "File Associated:  java/drda/org/apache/derby/impl/drda/NetworkServerControlImpl.java\n",
      "Count of Commits: 32 , Commit: 4f996a414c659869c5eb4d8918632e78e518df25\n",
      "Count of Commits: 1 , Commit: 929cefb7174a98a997a8c2718985839be69d5d6a\n",
      "Count of Commits: 2 , Commit: cf3c4cb4ba8eec73d3b133f9e0470a26e3827588\n",
      "Count of Commits: 9 , Commit: db9a0131c4858d543589defbd90fec9c3c35f6ca\n",
      "\n",
      "\n",
      "***********ADDED COMMITS************\n",
      "Vulnerability Associated:  CVE-2018-1313\n",
      "File Associated:  java/drda/org/apache/derby/drda/NetworkServerControl.java\n",
      "Count of Commits: 2 , Commit: eac036999fab0e9f9509022d833a1c99cad1b415\n",
      "Count of Commits: 7 , Commit: 5252985a5c2151098dc6ec24947ebd351ceb0721\n",
      "Count of Commits: 2 , Commit: 05524f732a5b25741485b5dcff1881b9f4602bea\n",
      "Count of Commits: 1 , Commit: 69cf74986d04016b3a1c27815e6b854a09cce19b\n",
      "Count of Commits: 5 , Commit: 0aa776920c2ba9699ff8ef0cc1b906523c7dab28\n",
      "File Associated:  java/drda/org/apache/derby/drda/server.policy\n",
      "Count of Commits: 7 , Commit: 1583d20800374ccfdf5d343c078b6c45661e3bf5\n",
      "File Associated:  java/drda/org/apache/derby/drda/template.policy\n",
      "Count of Commits: 8 , Commit: 0a0ec5c1d88bbaeefef02545ae2f3e09ea4018cb\n",
      "Count of Commits: 4 , Commit: 227dca6c86b7ff45ad02e3188f9b33b61b00002b\n",
      "File Associated:  java/drda/org/apache/derby/impl/drda/NetworkServerControlImpl.java\n",
      "Count of Commits: 4 , Commit: 4f996a414c659869c5eb4d8918632e78e518df25\n",
      "File Associated:  java/engine/org/apache/derby/iapi/reference/Property.java\n",
      "Count of Commits: 1 , Commit: a2027c64e185a9ce46929f352e2db03371c1f95b\n",
      "File Associated:  java/testing/org/apache/derbyTesting/functionTests/tests/derbynet/NetworkServerControlApiTest.java\n",
      "Count of Commits: 1 , Commit: 5028317c007b9b51dc177504f7bd8ded43dcf14d\n",
      "Count of Commits: 12 , Commit: 65eb19ad45caeeacc26ac8cb2d47372d8a701e69\n",
      "Count of Commits: 121 , Commit: a2027c64e185a9ce46929f352e2db03371c1f95b\n",
      "File Associated:  java/testing/org/apache/derbyTesting/functionTests/tests/derbynet/NetworkServerControlApiTest.policy\n",
      "Count of Commits: 4 , Commit: 5028317c007b9b51dc177504f7bd8ded43dcf14d\n",
      "File Associated:  java/tools/org/apache/derby/impl/tools/sysinfo/Main.java\n",
      "Count of Commits: 11 , Commit: fe77ca5f4828833a331cc4890854c08ff51b03f9\n",
      "Count of Commits: 30 , Commit: a2027c64e185a9ce46929f352e2db03371c1f95b\n",
      "\n",
      "\n",
      "***********VCC COMMITS************\n",
      "CVE-2018-1313\n",
      "    * java/drda/org/apache/derby/drda/NetworkServerControl.java\n",
      "Vulnerability Contributing Commit Count:  8  Commit:  0aa776920c2ba9699ff8ef0cc1b906523c7dab28\n",
      "    * java/drda/org/apache/derby/drda/server.policy\n",
      "Vulnerability Contributing Commit Count:  12  Commit:  227dca6c86b7ff45ad02e3188f9b33b61b00002b\n",
      "    * java/drda/org/apache/derby/drda/template.policy\n",
      "Vulnerability Contributing Commit Count:  9  Commit:  0a0ec5c1d88bbaeefef02545ae2f3e09ea4018cb\n",
      "    * java/drda/org/apache/derby/impl/drda/NetworkServerControlImpl.java\n",
      "Vulnerability Contributing Commit Count:  36  Commit:  4f996a414c659869c5eb4d8918632e78e518df25\n",
      "    * java/engine/org/apache/derby/iapi/reference/Property.java\n",
      "Vulnerability Contributing Commit Count:  0  Commit:  \n",
      "    * java/testing/org/apache/derbyTesting/functionTests/tests/derbynet/NetworkServerControlApiTest.java\n",
      "Vulnerability Contributing Commit Count:  12  Commit:  65eb19ad45caeeacc26ac8cb2d47372d8a701e69\n",
      "    * java/testing/org/apache/derbyTesting/functionTests/tests/derbynet/NetworkServerControlApiTest.policy\n",
      "Vulnerability Contributing Commit Count:  4  Commit:  5028317c007b9b51dc177504f7bd8ded43dcf14d\n",
      "    * java/tools/org/apache/derby/impl/tools/sysinfo/Main.java\n",
      "Vulnerability Contributing Commit Count:  11  Commit:  fe77ca5f4828833a331cc4890854c08ff51b03f9\n"
     ]
    }
   ],
   "source": [
    "def sanitize(modification):\n",
    "    line=modification\n",
    "    line=line.split('@@')[1]\n",
    "    line=line.replace('-','')\n",
    "    line=line.replace('+','')\n",
    "    line=line.replace(\" \",\",\")\n",
    "    line=line.split(\",\")\n",
    "    buffDel=[int(line[1]),int(line[1])+int(line[2])-1]\n",
    "    buffAdd=[int(line[3]),int(line[3])+int(line[4])-1]\n",
    "    linesDeleted.append(buffDel)\n",
    "    linesAdded.append(buffAdd)\n",
    "def enclosingScope(line,added_commits,fileComp):\n",
    "    fullCompleteIndex = (int(line[line.rfind(\" \", 0,line.find(\")\")):line.find(\")\")]) - 1)-1 \n",
    "    exited = False\n",
    "    noSkip = True\n",
    "    while fullCompleteIndex >= 0:\n",
    "        content = fileComp[fullCompleteIndex][line.find(\") \")+2:].strip()\n",
    "        if content.endswith(\"}\"):\n",
    "            noSkip = False\n",
    "        if content.endswith(\"{\") and not noSkip:\n",
    "            noSkip = True\n",
    "        elif content.endswith(\"{\") and noSkip:\n",
    "            hashedCode = repo.git.rev_parse(fileComp[fullCompleteIndex][:fileComp[fullCompleteIndex].find(\" \")])\n",
    "            if file in added_commits[\"CVE-2018-1313\"]:\n",
    "                added_commits[\"CVE-2018-1313\"][file].append(hashedCode)\n",
    "            else:\n",
    "                added_commits[\"CVE-2018-1313\"][file] = [hashedCode]\n",
    "            exited = True\n",
    "            break\n",
    "        fullCompleteIndex -= 1\n",
    "    if fullCompleteIndex < 0 and not exited:\n",
    "        hashedCode =repo.git.rev_parse(line[:line.find(\" \")])\n",
    "        if file in added_commits[\"CVE-2018-1313\"]:\n",
    "            added_commits[\"CVE-2018-1313\"][file].append(hashedCode)\n",
    "        else:\n",
    "            added_commits[\"CVE-2018-1313\"][file] = [hashedCode]            \n",
    "def hashCode(linesModifiedDictDup,foundFlag,line,file):\n",
    "    linesModifiedDictDup[\"CVE-2018-1313\"][file][\"deleted_lines\"].remove(foundFlag)\n",
    "    hashedCode = repo.git.rev_parse(line[:line.find(\" \")])\n",
    "    if file in commitsDeleted[\"CVE-2018-1313\"]:\n",
    "        commitsDeleted[\"CVE-2018-1313\"][file].append(hashedCode)\n",
    "    else:\n",
    "        commitsDeleted[\"CVE-2018-1313\"][file] = [hashedCode]\n",
    "def printLines(commitsDeletedOrAdded):\n",
    "    delAddCommitsNumb = {}\n",
    "    \n",
    "    for files in commitsDeletedOrAdded:\n",
    "        print(\"Vulnerability Associated: \", files)\n",
    "        delAddCommitsNumb[files] = {}\n",
    "        for file in commitsDeletedOrAdded[files]:\n",
    "\n",
    "            print(\"File Associated: \", file)\n",
    "            fileCommitNumb = Counter(commitsDeletedOrAdded[files][file])\n",
    "            if file in delAddCommitsNumb[files]:\n",
    "                delAddCommitsNumb[files][file].append(fileCommitNumb)\n",
    "            else:\n",
    "                delAddCommitsNumb[files][file] = [fileCommitNumb]\n",
    "            for commit, count in zip(fileCommitNumb.keys(), fileCommitNumb.values()):\n",
    "                print(\"Count of Commits:\", count, \", Commit:\", commit)\n",
    "        print(\"\\n\")\n",
    "repo = Repo(\"derby/\")\n",
    "fixingCommit=\"a2027c64e185a9ce46929f352e2db03371c1f95b\"\n",
    "previousCommit=fixingCommit+\"^1\"\n",
    "lineChanges={}\n",
    "showData = repo.git.diff(\"--name-only\", fixingCommit, previousCommit).splitlines()\n",
    "files=showData\n",
    "lineChanges = {}\n",
    "lineChanges[\"\"]={}\n",
    "linesModifiedBetween = {}\n",
    "linesModifiedBetween[\"CVE-2018-1313\"] = {}\n",
    "for file in files:\n",
    "    showData = repo.git.show(fixingCommit, \"--\", file).splitlines()\n",
    "    linesAdded = []\n",
    "    linesDeleted = []\n",
    "    for modification in showData:\n",
    "        if \"@@\" in modification:\n",
    "            sanitize(modification)\n",
    "    linesModifiedBetween[\"CVE-2018-1313\"][file] = {\"added_ranges\": linesAdded, \"deleted_ranges\": linesDeleted}\n",
    "linesModifiedDict = {}\n",
    "linesModifiedDict[\"CVE-2018-1313\"] = {}\n",
    "for file in files:\n",
    "    showData = repo.git.show(fixingCommit, \"--\", file).splitlines()\n",
    "    linesAddedAsCode = []\n",
    "    linesDeletedAsCode = []\n",
    "    for lines in showData:\n",
    "        if lines.startswith('+') and not lines.startswith('+++'):\n",
    "            linesAddedAsCode.append(lines)\n",
    "        elif lines.startswith('-') and not lines.startswith('---'):\n",
    "            linesDeletedAsCode.append(lines)\n",
    "    linesModifiedDict[\"CVE-2018-1313\"][file] = {\"added_lines\": linesAddedAsCode, \"deleted_lines\": linesDeletedAsCode}\n",
    "linesModifiedDictDup = copy.deepcopy(linesModifiedDict)\n",
    "commitsDeleted = {}\n",
    "commitsDeleted[\"CVE-2018-1313\"] = {}\n",
    "for file in linesModifiedBetween[\"CVE-2018-1313\"]:\n",
    "    for deletedLines in linesModifiedBetween[\"CVE-2018-1313\"][file][\"deleted_ranges\"]:\n",
    "        blamedShowData = repo.git.blame(previousCommit, \"-L\", str(deletedLines[0])+\",\"+str(deletedLines[1]), \"--\", file).splitlines()\n",
    "        for line in blamedShowData:\n",
    "            blamedLineShowData = line.partition(\") \")[2].strip()\n",
    "            foundFlag = None\n",
    "            for deletedLineCode in linesModifiedDictDup[\"CVE-2018-1313\"][file][\"deleted_lines\"]:\n",
    "                if blamedLineShowData in deletedLineCode[2:]:\n",
    "                    foundFlag = deletedLineCode\n",
    "                    break\n",
    "            if foundFlag != None:\n",
    "                hashCode(linesModifiedDictDup,foundFlag,line,file)\n",
    "\n",
    "print(\"***********DELETED COMMITS************\")               \n",
    "printLines(commitsDeleted)\n",
    "linesModifiedDictDup = copy.deepcopy(linesModifiedDict)\n",
    "added_commits = {}\n",
    "added_commits[\"CVE-2018-1313\"] = {}\n",
    "for file in linesModifiedBetween[\"CVE-2018-1313\"]:\n",
    "    fileComp = repo.git.blame(fixingCommit, \"--\", file).splitlines()\n",
    "    for linesAdded in linesModifiedBetween[\"CVE-2018-1313\"][file][\"added_ranges\"]:\n",
    "        blamedShowData = repo.git.blame(fixingCommit, \"-L\", str(linesAdded[0])+\",\"+str(linesAdded[1]), \"--\", file).splitlines()\n",
    "        for line in blamedShowData:\n",
    "            blamedLineShowData = line[line.find(\") \")+2:].strip()\n",
    "            foundFlag= None\n",
    "            for linesAdded in linesModifiedDictDup[\"CVE-2018-1313\"][file][\"added_lines\"]:\n",
    "                if blamedLineShowData in linesAdded[2:]:\n",
    "                    foundFlag = linesAdded\n",
    "                    break\n",
    "            if foundFlag != None:\n",
    "                linesModifiedDictDup[\"CVE-2018-1313\"][file][\"added_lines\"].remove(foundFlag)\n",
    "                # Finding smallest enclosing scope\n",
    "                enclosingScope(line,added_commits,fileComp)\n",
    "print(\"***********ADDED COMMITS************\")\n",
    "printLines(added_commits)\n",
    "VCC = {}\n",
    "VCCCommits=[]\n",
    "print(\"***********VCC COMMITS************\")\n",
    "# Counting commits\n",
    "for v in commitsDeleted:\n",
    "    VCC[v] = {}\n",
    "    print(v)\n",
    "    for f in added_commits[v]:\n",
    "        print(\"    *\", f)\n",
    "        if f in commitsDeleted[v] and f in added_commits[v]:\n",
    "            counted_commits = Counter(commitsDeleted[v][f]+added_commits[v][f])\n",
    "        elif f in commitsDeleted[v] and f not in added_commits[v]:\n",
    "            counted_commits = Counter(commitsDeleted[v][f])\n",
    "        elif f not in commitsDeleted[v] and f in added_commits[v]:\n",
    "            counted_commits = Counter(added_commits[v][f])\n",
    "        VCC[v][f] = {\"count\": 0, \"commit\": \"\"}\n",
    "        for commit, count in zip(counted_commits.keys(), counted_commits.values()):\n",
    "            if (count > VCC[v][f][\"count\"]):\n",
    "                if commit != fixingCommit:\n",
    "                    VCC[v][f] = {\"count\": count, \"commit\": commit}\n",
    "            elif (count == VCC[v][f][\"count\"]):\n",
    "                if commit != fixingCommit:\n",
    "                    VCC[v][f][\"count\"].append(count)\n",
    "        VCCCommits.append(VCC[v][f][\"commit\"])       \n",
    "        print(\"Vulnerability Contributing Commit Count: \", VCC[v][f][\"count\"], \" Commit: \", VCC[v][f][\"commit\"])"
   ]
  },
  {
   "cell_type": "code",
   "execution_count": null,
   "metadata": {},
   "outputs": [],
   "source": []
  },
  {
   "attachments": {},
   "cell_type": "markdown",
   "metadata": {},
   "source": [
    "# Task ‘4.a’: Is the current VCC an initial commit?\n"
   ]
  },
  {
   "cell_type": "code",
   "execution_count": 50,
   "metadata": {},
   "outputs": [
    {
     "name": "stdout",
     "output_type": "stream",
     "text": [
      "Parent commit exists, as such it isn't an initial commit!\n"
     ]
    }
   ],
   "source": [
    "for VCC in VCCCommits:\n",
    "   \n",
    "    try:\n",
    "        VCCParent= repo.git.show(VCC+\"^\").splitlines()\n",
    "    except: \n",
    "        pass\n",
    "print(\"Parent commit exists, as such it isn't an initial commit!\")"
   ]
  },
  {
   "attachments": {},
   "cell_type": "markdown",
   "metadata": {},
   "source": [
    "# Task ‘4.b’: Is the developer of the current fixing commit and its corresponding VCC the same? If not, give your reflections on the difference in their experience.\n"
   ]
  },
  {
   "cell_type": "code",
   "execution_count": 51,
   "metadata": {},
   "outputs": [
    {
     "name": "stdout",
     "output_type": "stream",
     "text": [
      "bpendleton@apache.org\n",
      "No! fixing commit author: bpendleton@apache.org not same in commit: 0aa776920c2ba9699ff8ef0cc1b906523c7dab28\n",
      "No! fixing commit author: bpendleton@apache.org not same in commit: 227dca6c86b7ff45ad02e3188f9b33b61b00002b\n",
      "No! fixing commit author: bpendleton@apache.org not same in commit: 0a0ec5c1d88bbaeefef02545ae2f3e09ea4018cb\n",
      "No! fixing commit author: bpendleton@apache.org not same in commit: 4f996a414c659869c5eb4d8918632e78e518df25\n",
      "No! fixing commit author: bpendleton@apache.org not same in commit: 4253dcf4aa37dc64cf7235d494cd2f00f72e678a\n",
      "No! fixing commit author: bpendleton@apache.org not same in commit: 65eb19ad45caeeacc26ac8cb2d47372d8a701e69\n",
      "No! fixing commit author: bpendleton@apache.org not same in commit: 5028317c007b9b51dc177504f7bd8ded43dcf14d\n",
      "No! fixing commit author: bpendleton@apache.org not same in commit: fe77ca5f4828833a331cc4890854c08ff51b03f9\n"
     ]
    }
   ],
   "source": [
    "commit=repo.commit(fixingCommit)\n",
    "fixinCommitAuthor=commit.author.email\n",
    "print(fixinCommitAuthor)\n",
    "for commits in VCCCommits:\n",
    "    VCCcommit=repo.commit(commits)\n",
    "    VCCCommitAuthor=VCCcommit.author.email\n",
    "    if(fixinCommitAuthor==VCCCommitAuthor):\n",
    "        print(\"Yes! fixing commit author: {} is same in commit: {}\".format(fixinCommitAuthor,VCCcommit))\n",
    "    else:\n",
    "        print(\"No! fixing commit author: {} not same in commit: {}\".format(fixinCommitAuthor,VCCcommit))"
   ]
  },
  {
   "attachments": {},
   "cell_type": "markdown",
   "metadata": {},
   "source": [
    "# Task ‘4.c’: How many days were between the current fixing commit and its corresponding VCC? Is the current VCC fixed immediately\n"
   ]
  },
  {
   "cell_type": "code",
   "execution_count": 52,
   "metadata": {},
   "outputs": [
    {
     "name": "stdout",
     "output_type": "stream",
     "text": [
      "Fixing commit: a2027c64e185a9ce46929f352e2db03371c1f95b and VCC commit: 0aa776920c2ba9699ff8ef0cc1b906523c7dab28 was fixed in: 4045 days, 0:00:00 \n",
      "Fixing commit: a2027c64e185a9ce46929f352e2db03371c1f95b and VCC commit: 227dca6c86b7ff45ad02e3188f9b33b61b00002b was fixed in: 1760 days, 0:00:00 \n",
      "Fixing commit: a2027c64e185a9ce46929f352e2db03371c1f95b and VCC commit: 0a0ec5c1d88bbaeefef02545ae2f3e09ea4018cb was fixed in: 4003 days, 0:00:00 \n",
      "Fixing commit: a2027c64e185a9ce46929f352e2db03371c1f95b and VCC commit: 4f996a414c659869c5eb4d8918632e78e518df25 was fixed in: 2041 days, 0:00:00 \n",
      "Fixing commit: a2027c64e185a9ce46929f352e2db03371c1f95b and VCC commit: 65eb19ad45caeeacc26ac8cb2d47372d8a701e69 was fixed in: 3740 days, 0:00:00 \n",
      "Fixing commit: a2027c64e185a9ce46929f352e2db03371c1f95b and VCC commit: 5028317c007b9b51dc177504f7bd8ded43dcf14d was fixed in: 3779 days, 0:00:00 \n",
      "Fixing commit: a2027c64e185a9ce46929f352e2db03371c1f95b and VCC commit: fe77ca5f4828833a331cc4890854c08ff51b03f9 was fixed in: 4916 days, 0:00:00 \n"
     ]
    }
   ],
   "source": [
    "from datetime import datetime\n",
    "commit=repo.commit(fixingCommit)\n",
    "fixinCommitAuthor=commit.author.email\n",
    "dateFixing=repo.git.show(\"-s\",\"--format=%ci\",commit).split(\" \")\n",
    "dateFixing=dateFixing[0]\n",
    "dateFixing=datetime.strptime(\"{}\".format(dateFixing), '%Y-%m-%d').date()\n",
    "time_different = 0\n",
    "sum = 0\n",
    "count = 0\n",
    "\n",
    "for commits in VCCCommits:\n",
    "    try:\n",
    "        date=repo.git.show(\"-s\",\"--format=%ci\",commits).split(\" \")\n",
    "        date=date[0]\n",
    "        date= datetime.strptime(\"{}\".format(date), '%Y-%m-%d').date()\n",
    "        days=dateFixing-date\n",
    "        print(\"Fixing commit: {} and VCC commit: {} was fixed in: {} \".format(commit,commits,days))\n",
    "    except:\n",
    "        pass\n",
    "    \n",
    "    "
   ]
  },
  {
   "attachments": {},
   "cell_type": "markdown",
   "metadata": {},
   "source": [
    "# Task ‘4.d’: If the current VCC is not fixed immediately (within the same day), was there any other vulnerability, bug or special request happening between the current fixing commit and VCC that might require higher priority?"
   ]
  },
  {
   "attachments": {},
   "cell_type": "markdown",
   "metadata": {},
   "source": [
    "# Old Vulnerability: CVE-2012-1621 VCC Analysis"
   ]
  },
  {
   "cell_type": "code",
   "execution_count": 53,
   "metadata": {},
   "outputs": [
    {
     "name": "stdout",
     "output_type": "stream",
     "text": [
      "CVE-2018-1313\n",
      "Vulnerability Contributing Commit Count:  1  Commit:  0c41fe21e77c0a5d0a1c1c0f0b47da30b7a0a47d\n",
      "Parent commit exists, as such it isn't an initial commit!\n"
     ]
    }
   ],
   "source": [
    "def sanitize(modification):\n",
    "    line=modification\n",
    "    line=line.split('@@')[1]\n",
    "    line=line.replace('-','')\n",
    "    line=line.replace('+','')\n",
    "    line=line.replace(\" \",\",\")\n",
    "    line=line.split(\",\")\n",
    "    buffDel=[int(line[1]),int(line[1])+int(line[2])-1]\n",
    "    buffAdd=[int(line[3]),int(line[3])+int(line[4])-1]\n",
    "    linesDeleted.append(buffDel)\n",
    "    linesAdded.append(buffAdd)\n",
    "def enclosingScope(line,added_commits,fileComp):\n",
    "    fullCompleteIndex = (int(line[line.rfind(\" \", 0,line.find(\")\")):line.find(\")\")]) - 1)-1 \n",
    "    exited = False\n",
    "    noSkip = True\n",
    "    while fullCompleteIndex >= 0:\n",
    "        content = fileComp[fullCompleteIndex][line.find(\") \")+2:].strip()\n",
    "        if content.endswith(\"}\"):\n",
    "            noSkip = False\n",
    "        if content.endswith(\"{\") and not noSkip:\n",
    "            noSkip = True\n",
    "        elif content.endswith(\"{\") and noSkip:\n",
    "            hashedCode = repo.git.rev_parse(fileComp[fullCompleteIndex][:fileComp[fullCompleteIndex].find(\" \")])\n",
    "            if file in added_commits[\"CVE-2018-1313\"]:\n",
    "                added_commits[\"CVE-2018-1313\"][file].append(hashedCode)\n",
    "            else:\n",
    "                added_commits[\"CVE-2018-1313\"][file] = [hashedCode]\n",
    "            exited = True\n",
    "            break\n",
    "        fullCompleteIndex -= 1\n",
    "    if fullCompleteIndex < 0 and not exited:\n",
    "        hashedCode =repo.git.rev_parse(line[:line.find(\" \")])\n",
    "        if file in added_commits[\"CVE-2018-1313\"]:\n",
    "            added_commits[\"CVE-2018-1313\"][file].append(hashedCode)\n",
    "        else:\n",
    "            added_commits[\"CVE-2018-1313\"][file] = [hashedCode]            \n",
    "def hashCode(linesModifiedDictDup,foundFlag,line,file):\n",
    "    linesModifiedDictDup[\"CVE-2018-1313\"][file][\"deleted_lines\"].remove(foundFlag)\n",
    "    hashedCode = repo.git.rev_parse(line[:line.find(\" \")])\n",
    "    if file in commitsDeleted[\"CVE-2018-1313\"]:\n",
    "        commitsDeleted[\"CVE-2018-1313\"][file].append(hashedCode)\n",
    "    else:\n",
    "        commitsDeleted[\"CVE-2018-1313\"][file] = [hashedCode]\n",
    "def printLines(commitsDeletedOrAdded):\n",
    "    delAddCommitsNumb = {}\n",
    "    \n",
    "    for files in commitsDeletedOrAdded:\n",
    "        print(\"Vulnerability Associated: \", files)\n",
    "        delAddCommitsNumb[files] = {}\n",
    "        for file in commitsDeletedOrAdded[files]:\n",
    "\n",
    "            print(\"File Associated: \", file)\n",
    "            fileCommitNumb = Counter(commitsDeletedOrAdded[files][file])\n",
    "            if file in delAddCommitsNumb[files]:\n",
    "                delAddCommitsNumb[files][file].append(fileCommitNumb)\n",
    "            else:\n",
    "                delAddCommitsNumb[files][file] = [fileCommitNumb]\n",
    "            for commit, count in zip(fileCommitNumb.keys(), fileCommitNumb.values()):\n",
    "                print(\"Count of Commits:\", count, \", Commit:\", commit)\n",
    "        print(\"\\n\")\n",
    "repo = Repo(\"ofbiz/\")\n",
    "fixingCommit=\"ea604f84e4a21fe081d66bbdab454b1e8a7d09b3\"\n",
    "previousCommit=fixingCommit+\"^1\"\n",
    "lineChanges={}\n",
    "showData = repo.git.diff(\"--name-only\", fixingCommit, previousCommit).splitlines()\n",
    "files=showData\n",
    "lineChanges = {}\n",
    "lineChanges[\"\"]={}\n",
    "linesModifiedBetween = {}\n",
    "linesModifiedBetween[\"CVE-2018-1313\"] = {}\n",
    "for file in files:\n",
    "    showData = repo.git.show(fixingCommit, \"--\", file).splitlines()\n",
    "    linesAdded = []\n",
    "    linesDeleted = []\n",
    "    for modification in showData:\n",
    "        if \"@@\" in modification:\n",
    "            sanitize(modification)\n",
    "    linesModifiedBetween[\"CVE-2018-1313\"][file] = {\"added_ranges\": linesAdded, \"deleted_ranges\": linesDeleted}\n",
    "linesModifiedDict = {}\n",
    "linesModifiedDict[\"CVE-2018-1313\"] = {}\n",
    "for file in files:\n",
    "    showData = repo.git.show(fixingCommit, \"--\", file).splitlines()\n",
    "    linesAddedAsCode = []\n",
    "    linesDeletedAsCode = []\n",
    "    for lines in showData:\n",
    "        if lines.startswith('+') and not lines.startswith('+++'):\n",
    "            linesAddedAsCode.append(lines)\n",
    "        elif lines.startswith('-') and not lines.startswith('---'):\n",
    "            linesDeletedAsCode.append(lines)\n",
    "    linesModifiedDict[\"CVE-2018-1313\"][file] = {\"added_lines\": linesAddedAsCode, \"deleted_lines\": linesDeletedAsCode}\n",
    "linesModifiedDictDup = copy.deepcopy(linesModifiedDict)\n",
    "commitsDeleted = {}\n",
    "commitsDeleted[\"CVE-2018-1313\"] = {}\n",
    "for file in linesModifiedBetween[\"CVE-2018-1313\"]:\n",
    "    for deletedLines in linesModifiedBetween[\"CVE-2018-1313\"][file][\"deleted_ranges\"]:\n",
    "        blamedShowData = repo.git.blame(previousCommit, \"-L\", str(deletedLines[0])+\",\"+str(deletedLines[1]), \"--\", file).splitlines()\n",
    "        for line in blamedShowData:\n",
    "            blamedLineShowData = line.partition(\") \")[2].strip()\n",
    "            foundFlag = None\n",
    "            for deletedLineCode in linesModifiedDictDup[\"CVE-2018-1313\"][file][\"deleted_lines\"]:\n",
    "                if blamedLineShowData in deletedLineCode[2:]:\n",
    "                    foundFlag = deletedLineCode\n",
    "                    break\n",
    "            if foundFlag != None:\n",
    "                hashCode(linesModifiedDictDup,foundFlag,line,file)\n",
    "\n",
    "\n",
    "linesModifiedDictDup = copy.deepcopy(linesModifiedDict)\n",
    "added_commits = {}\n",
    "added_commits[\"CVE-2018-1313\"] = {}\n",
    "for file in linesModifiedBetween[\"CVE-2018-1313\"]:\n",
    "    fileComp = repo.git.blame(fixingCommit, \"--\", file).splitlines()\n",
    "    for linesAdded in linesModifiedBetween[\"CVE-2018-1313\"][file][\"added_ranges\"]:\n",
    "        blamedShowData = repo.git.blame(fixingCommit, \"-L\", str(linesAdded[0])+\",\"+str(linesAdded[1]), \"--\", file).splitlines()\n",
    "        for line in blamedShowData:\n",
    "            blamedLineShowData = line[line.find(\") \")+2:].strip()\n",
    "            foundFlag= None\n",
    "            for linesAdded in linesModifiedDictDup[\"CVE-2018-1313\"][file][\"added_lines\"]:\n",
    "                if blamedLineShowData in linesAdded[2:]:\n",
    "                    foundFlag = linesAdded\n",
    "                    break\n",
    "            if foundFlag != None:\n",
    "                linesModifiedDictDup[\"CVE-2018-1313\"][file][\"added_lines\"].remove(foundFlag)\n",
    "                # Finding smallest enclosing scope\n",
    "                enclosingScope(line,added_commits,fileComp)\n",
    "\n",
    "VCC = {}\n",
    "VCCCommits=[]\n",
    "\n",
    "# Counting commits\n",
    "for v in commitsDeleted:\n",
    "    VCC[v] = {}\n",
    "    print(v)\n",
    "    for f in added_commits[v]:\n",
    "       \n",
    "        if f in commitsDeleted[v] and f in added_commits[v]:\n",
    "            counted_commits = Counter(commitsDeleted[v][f]+added_commits[v][f])\n",
    "        elif f in commitsDeleted[v] and f not in added_commits[v]:\n",
    "            counted_commits = Counter(commitsDeleted[v][f])\n",
    "        elif f not in commitsDeleted[v] and f in added_commits[v]:\n",
    "            counted_commits = Counter(added_commits[v][f])\n",
    "        VCC[v][f] = {\"count\": 0, \"commit\": \"\"}\n",
    "        for commit, count in zip(counted_commits.keys(), counted_commits.values()):\n",
    "            if (count > VCC[v][f][\"count\"]):\n",
    "                if commit != fixingCommit:\n",
    "                    VCC[v][f] = {\"count\": count, \"commit\": commit}\n",
    "            elif (count == VCC[v][f][\"count\"]):\n",
    "                if commit != fixingCommit:\n",
    "                    VCC[v][f][\"count\"]=count\n",
    "        VCCCommits.append(VCC[v][f][\"commit\"])       \n",
    "        print(\"Vulnerability Contributing Commit Count: \", VCC[v][f][\"count\"], \" Commit: \", VCC[v][f][\"commit\"])\n",
    "for VCC in VCCCommits:\n",
    "   \n",
    "    try:\n",
    "        VCCParent= repo.git.show(VCC+\"^\").splitlines()\n",
    "#         pprint.pprint(VCCParent)\n",
    "    except: \n",
    "        pass\n",
    "print(\"Parent commit exists, as such it isn't an initial commit!\")"
   ]
  },
  {
   "attachments": {},
   "cell_type": "markdown",
   "metadata": {},
   "source": [
    "# Task ‘4.b’: Is the developer of the current fixing commit and its corresponding VCC the same? If not, give your reflections on the difference in their experience.\n"
   ]
  },
  {
   "cell_type": "code",
   "execution_count": 54,
   "metadata": {},
   "outputs": [
    {
     "name": "stdout",
     "output_type": "stream",
     "text": [
      "lektran@apache.org\n",
      "No! fixing commit author: lektran@apache.org not same in commit: 0c41fe21e77c0a5d0a1c1c0f0b47da30b7a0a47d\n"
     ]
    }
   ],
   "source": [
    "commit=repo.commit(fixingCommit)\n",
    "fixinCommitAuthor=commit.author.email\n",
    "print(fixinCommitAuthor)\n",
    "for commits in VCCCommits:\n",
    "    VCCcommit=repo.commit(commits)\n",
    "    VCCCommitAuthor=VCCcommit.author.email\n",
    "    if(fixinCommitAuthor==VCCCommitAuthor):\n",
    "        print(\"Yes! fixing commit author: {} is same in commit: {}\".format(fixinCommitAuthor,VCCcommit))\n",
    "    else:\n",
    "        print(\"No! fixing commit author: {} not same in commit: {}\".format(fixinCommitAuthor,VCCcommit))"
   ]
  },
  {
   "attachments": {},
   "cell_type": "markdown",
   "metadata": {},
   "source": [
    "# Task ‘4.c’: How many days were between the current fixing commit and its corresponding VCC? Is the current VCC fixed immediately\n"
   ]
  },
  {
   "cell_type": "code",
   "execution_count": 55,
   "metadata": {},
   "outputs": [
    {
     "name": "stdout",
     "output_type": "stream",
     "text": [
      "Fixing commit: ea604f84e4a21fe081d66bbdab454b1e8a7d09b3 and VCC commit: 0c41fe21e77c0a5d0a1c1c0f0b47da30b7a0a47d was fixed in: 1861 days, 0:00:00 \n"
     ]
    }
   ],
   "source": [
    "from datetime import datetime\n",
    "commit=repo.commit(fixingCommit)\n",
    "fixinCommitAuthor=commit.author.email\n",
    "dateFixing=repo.git.show(\"-s\",\"--format=%ci\",commit).split(\" \")\n",
    "dateFixing=dateFixing[0]\n",
    "dateFixing=datetime.strptime(\"{}\".format(dateFixing), '%Y-%m-%d').date()\n",
    "time_different = 0\n",
    "sum = 0\n",
    "count = 0\n",
    "\n",
    "for commits in VCCCommits:\n",
    "    try:\n",
    "        date=repo.git.show(\"-s\",\"--format=%ci\",commits).split(\" \")\n",
    "        date=date[0]\n",
    "        date= datetime.strptime(\"{}\".format(date), '%Y-%m-%d').date()\n",
    "        days=dateFixing-date\n",
    "        print(\"Fixing commit: {} and VCC commit: {} was fixed in: {} \".format(commit,commits,days))\n",
    "    except:\n",
    "        pass\n",
    "    \n",
    "    "
   ]
  },
  {
   "attachments": {},
   "cell_type": "markdown",
   "metadata": {},
   "source": [
    "# Task ‘4.d’: If the current VCC is not fixed immediately (within the same day), was there any other vulnerability, bug or special request happening between the current fixing commit and VCC that might require higher priority?"
   ]
  },
  {
   "attachments": {},
   "cell_type": "markdown",
   "metadata": {},
   "source": [
    "# Old Vulnerability: CVE-2017-15719 VCC Analysis"
   ]
  },
  {
   "cell_type": "code",
   "execution_count": 56,
   "metadata": {},
   "outputs": [
    {
     "name": "stdout",
     "output_type": "stream",
     "text": [
      "CVE-2018-1313\n",
      "Vulnerability Contributing Commit Count:  8  Commit:  57a12f28d8fc980b0e0f7ed6283769fcf4da5112\n",
      "Vulnerability Contributing Commit Count:  15  Commit:  a7b9f7961e02e2a801f5031f39e6088b49f71dea\n",
      "Parent commit exists, as such it isn't an initial commit!\n"
     ]
    }
   ],
   "source": [
    "def sanitize(modification):\n",
    "    line=modification\n",
    "    line=line.split('@@')[1]\n",
    "    line=line.replace('-','')\n",
    "    line=line.replace('+','')\n",
    "    line=line.replace(\" \",\",\")\n",
    "    line=line.split(\",\")\n",
    "    buffDel=[int(line[1]),int(line[1])+int(line[2])-1]\n",
    "    buffAdd=[int(line[3]),int(line[3])+int(line[4])-1]\n",
    "    linesDeleted.append(buffDel)\n",
    "    linesAdded.append(buffAdd)\n",
    "def enclosingScope(line,added_commits,fileComp):\n",
    "    fullCompleteIndex = (int(line[line.rfind(\" \", 0,line.find(\")\")):line.find(\")\")]) - 1)-1 \n",
    "    exited = False\n",
    "    noSkip = True\n",
    "    while fullCompleteIndex >= 0:\n",
    "        content = fileComp[fullCompleteIndex][line.find(\") \")+2:].strip()\n",
    "        if content.endswith(\"}\"):\n",
    "            noSkip = False\n",
    "        if content.endswith(\"{\") and not noSkip:\n",
    "            noSkip = True\n",
    "        elif content.endswith(\"{\") and noSkip:\n",
    "            hashedCode = repo.git.rev_parse(fileComp[fullCompleteIndex][:fileComp[fullCompleteIndex].find(\" \")])\n",
    "            if file in added_commits[\"CVE-2018-1313\"]:\n",
    "                added_commits[\"CVE-2018-1313\"][file].append(hashedCode)\n",
    "            else:\n",
    "                added_commits[\"CVE-2018-1313\"][file] = [hashedCode]\n",
    "            exited = True\n",
    "            break\n",
    "        fullCompleteIndex -= 1\n",
    "    if fullCompleteIndex < 0 and not exited:\n",
    "        hashedCode =repo.git.rev_parse(line[:line.find(\" \")])\n",
    "        if file in added_commits[\"CVE-2018-1313\"]:\n",
    "            added_commits[\"CVE-2018-1313\"][file].append(hashedCode)\n",
    "        else:\n",
    "            added_commits[\"CVE-2018-1313\"][file] = [hashedCode]            \n",
    "def hashCode(linesModifiedDictDup,foundFlag,line,file):\n",
    "    linesModifiedDictDup[\"CVE-2018-1313\"][file][\"deleted_lines\"].remove(foundFlag)\n",
    "    hashedCode = repo.git.rev_parse(line[:line.find(\" \")])\n",
    "    if file in commitsDeleted[\"CVE-2018-1313\"]:\n",
    "        commitsDeleted[\"CVE-2018-1313\"][file].append(hashedCode)\n",
    "    else:\n",
    "        commitsDeleted[\"CVE-2018-1313\"][file] = [hashedCode]\n",
    "def printLines(commitsDeletedOrAdded):\n",
    "    delAddCommitsNumb = {}\n",
    "    \n",
    "    for files in commitsDeletedOrAdded:\n",
    "        print(\"Vulnerability Associated: \", files)\n",
    "        delAddCommitsNumb[files] = {}\n",
    "        for file in commitsDeletedOrAdded[files]:\n",
    "\n",
    "            print(\"File Associated: \", file)\n",
    "            fileCommitNumb = Counter(commitsDeletedOrAdded[files][file])\n",
    "            if file in delAddCommitsNumb[files]:\n",
    "                delAddCommitsNumb[files][file].append(fileCommitNumb)\n",
    "            else:\n",
    "                delAddCommitsNumb[files][file] = [fileCommitNumb]\n",
    "            for commit, count in zip(fileCommitNumb.keys(), fileCommitNumb.values()):\n",
    "                print(\"Count of Commits:\", count, \", Commit:\", commit)\n",
    "        print(\"\\n\")\n",
    "repo = Repo(\"wicket-jquery-ui/\")\n",
    "fixingCommit=\"8aebe1e49a71f10cdd6a073fd09d0d8d82352a01\"\n",
    "previousCommit=fixingCommit+\"^1\"\n",
    "lineChanges={}\n",
    "showData = repo.git.diff(\"--name-only\", fixingCommit, previousCommit).splitlines()\n",
    "files=showData\n",
    "lineChanges = {}\n",
    "lineChanges[\"\"]={}\n",
    "linesModifiedBetween = {}\n",
    "linesModifiedBetween[\"CVE-2018-1313\"] = {}\n",
    "for file in files:\n",
    "    showData = repo.git.show(fixingCommit, \"--\", file).splitlines()\n",
    "    linesAdded = []\n",
    "    linesDeleted = []\n",
    "    for modification in showData:\n",
    "        if \"@@\" in modification:\n",
    "            sanitize(modification)\n",
    "    linesModifiedBetween[\"CVE-2018-1313\"][file] = {\"added_ranges\": linesAdded, \"deleted_ranges\": linesDeleted}\n",
    "linesModifiedDict = {}\n",
    "linesModifiedDict[\"CVE-2018-1313\"] = {}\n",
    "for file in files:\n",
    "    showData = repo.git.show(fixingCommit, \"--\", file).splitlines()\n",
    "    linesAddedAsCode = []\n",
    "    linesDeletedAsCode = []\n",
    "    for lines in showData:\n",
    "        if lines.startswith('+') and not lines.startswith('+++'):\n",
    "            linesAddedAsCode.append(lines)\n",
    "        elif lines.startswith('-') and not lines.startswith('---'):\n",
    "            linesDeletedAsCode.append(lines)\n",
    "    linesModifiedDict[\"CVE-2018-1313\"][file] = {\"added_lines\": linesAddedAsCode, \"deleted_lines\": linesDeletedAsCode}\n",
    "linesModifiedDictDup = copy.deepcopy(linesModifiedDict)\n",
    "commitsDeleted = {}\n",
    "commitsDeleted[\"CVE-2018-1313\"] = {}\n",
    "for file in linesModifiedBetween[\"CVE-2018-1313\"]:\n",
    "    for deletedLines in linesModifiedBetween[\"CVE-2018-1313\"][file][\"deleted_ranges\"]:\n",
    "        blamedShowData = repo.git.blame(previousCommit, \"-L\", str(deletedLines[0])+\",\"+str(deletedLines[1]), \"--\", file).splitlines()\n",
    "        for line in blamedShowData:\n",
    "            blamedLineShowData = line.partition(\") \")[2].strip()\n",
    "            foundFlag = None\n",
    "            for deletedLineCode in linesModifiedDictDup[\"CVE-2018-1313\"][file][\"deleted_lines\"]:\n",
    "                if blamedLineShowData in deletedLineCode[2:]:\n",
    "                    foundFlag = deletedLineCode\n",
    "                    break\n",
    "            if foundFlag != None:\n",
    "                hashCode(linesModifiedDictDup,foundFlag,line,file)\n",
    "\n",
    "\n",
    "linesModifiedDictDup = copy.deepcopy(linesModifiedDict)\n",
    "added_commits = {}\n",
    "added_commits[\"CVE-2018-1313\"] = {}\n",
    "for file in linesModifiedBetween[\"CVE-2018-1313\"]:\n",
    "    fileComp = repo.git.blame(fixingCommit, \"--\", file).splitlines()\n",
    "    for linesAdded in linesModifiedBetween[\"CVE-2018-1313\"][file][\"added_ranges\"]:\n",
    "        blamedShowData = repo.git.blame(fixingCommit, \"-L\", str(linesAdded[0])+\",\"+str(linesAdded[1]), \"--\", file).splitlines()\n",
    "        for line in blamedShowData:\n",
    "            blamedLineShowData = line[line.find(\") \")+2:].strip()\n",
    "            foundFlag= None\n",
    "            for linesAdded in linesModifiedDictDup[\"CVE-2018-1313\"][file][\"added_lines\"]:\n",
    "                if blamedLineShowData in linesAdded[2:]:\n",
    "                    foundFlag = linesAdded\n",
    "                    break\n",
    "            if foundFlag != None:\n",
    "                linesModifiedDictDup[\"CVE-2018-1313\"][file][\"added_lines\"].remove(foundFlag)\n",
    "                # Finding smallest enclosing scope\n",
    "                enclosingScope(line,added_commits,fileComp)\n",
    "\n",
    "VCC = {}\n",
    "VCCCommits=[]\n",
    "\n",
    "# Counting commits\n",
    "for v in commitsDeleted:\n",
    "    VCC[v] = {}\n",
    "    print(v)\n",
    "    for f in added_commits[v]:\n",
    "       \n",
    "        if f in commitsDeleted[v] and f in added_commits[v]:\n",
    "            counted_commits = Counter(commitsDeleted[v][f]+added_commits[v][f])\n",
    "        elif f in commitsDeleted[v] and f not in added_commits[v]:\n",
    "            counted_commits = Counter(commitsDeleted[v][f])\n",
    "        elif f not in commitsDeleted[v] and f in added_commits[v]:\n",
    "            counted_commits = Counter(added_commits[v][f])\n",
    "        VCC[v][f] = {\"count\": 0, \"commit\": \"\"}\n",
    "        for commit, count in zip(counted_commits.keys(), counted_commits.values()):\n",
    "            if (count > VCC[v][f][\"count\"]):\n",
    "                if commit not in fixingCommit:\n",
    "                    VCC[v][f] = {\"count\": count, \"commit\": commit}\n",
    "            elif (count == VCC[v][f][\"count\"]):\n",
    "                if commit not in fixingCommit:\n",
    "                    VCC[v][f][\"count\"].append(count)\n",
    "        VCCCommits.append(VCC[v][f][\"commit\"])       \n",
    "        print(\"Vulnerability Contributing Commit Count: \", VCC[v][f][\"count\"], \" Commit: \", VCC[v][f][\"commit\"])\n",
    "for VCC in VCCCommits:\n",
    "   \n",
    "    try:\n",
    "        VCCParent= repo.git.show(VCC+\"^\").splitlines()\n",
    "#         pprint.pprint(VCCParent)\n",
    "    except: \n",
    "        pass\n",
    "print(\"Parent commit exists, as such it isn't an initial commit!\")"
   ]
  },
  {
   "attachments": {},
   "cell_type": "markdown",
   "metadata": {},
   "source": [
    "# Task ‘4.b’: Is the developer of the current fixing commit and its corresponding VCC the same? If not, give your reflections on the difference in their experience.\n"
   ]
  },
  {
   "cell_type": "code",
   "execution_count": 57,
   "metadata": {},
   "outputs": [
    {
     "name": "stdout",
     "output_type": "stream",
     "text": [
      "solomax666@gmail.com\n",
      "No! fixing commit author: solomax666@gmail.com not same in commit: 57a12f28d8fc980b0e0f7ed6283769fcf4da5112\n",
      "No! fixing commit author: solomax666@gmail.com not same in commit: a7b9f7961e02e2a801f5031f39e6088b49f71dea\n"
     ]
    }
   ],
   "source": [
    "commit=repo.commit(fixingCommit)\n",
    "fixinCommitAuthor=commit.author.email\n",
    "print(fixinCommitAuthor)\n",
    "for commits in VCCCommits:\n",
    "    VCCcommit=repo.commit(commits)\n",
    "    VCCCommitAuthor=VCCcommit.author.email\n",
    "    if(fixinCommitAuthor==VCCCommitAuthor):\n",
    "        print(\"Yes! fixing commit author: {} is same in commit: {}\".format(fixinCommitAuthor,VCCcommit))\n",
    "    else:\n",
    "        print(\"No! fixing commit author: {} not same in commit: {}\".format(fixinCommitAuthor,VCCcommit))"
   ]
  },
  {
   "attachments": {},
   "cell_type": "markdown",
   "metadata": {},
   "source": [
    "# Task ‘4.c’: How many days were between the current fixing commit and its corresponding VCC? Is the current VCC fixed immediately\n"
   ]
  },
  {
   "cell_type": "code",
   "execution_count": 58,
   "metadata": {},
   "outputs": [
    {
     "name": "stdout",
     "output_type": "stream",
     "text": [
      "Fixing commit: 8aebe1e49a71f10cdd6a073fd09d0d8d82352a01 and VCC commit: 57a12f28d8fc980b0e0f7ed6283769fcf4da5112 was fixed in: 1264 days, 0:00:00 \n",
      "Fixing commit: 8aebe1e49a71f10cdd6a073fd09d0d8d82352a01 and VCC commit: a7b9f7961e02e2a801f5031f39e6088b49f71dea was fixed in: 1655 days, 0:00:00 \n"
     ]
    }
   ],
   "source": [
    "from datetime import datetime\n",
    "commit=repo.commit(fixingCommit)\n",
    "fixinCommitAuthor=commit.author.email\n",
    "dateFixing=repo.git.show(\"-s\",\"--format=%ci\",commit).split(\" \")\n",
    "dateFixing=dateFixing[0]\n",
    "dateFixing=datetime.strptime(\"{}\".format(dateFixing), '%Y-%m-%d').date()\n",
    "time_different = 0\n",
    "sum = 0\n",
    "count = 0\n",
    "\n",
    "for commits in VCCCommits:\n",
    "    try:\n",
    "        date=repo.git.show(\"-s\",\"--format=%ci\",commits).split(\" \")\n",
    "        date=date[0]\n",
    "        date= datetime.strptime(\"{}\".format(date), '%Y-%m-%d').date()\n",
    "        days=dateFixing-date\n",
    "        print(\"Fixing commit: {} and VCC commit: {} was fixed in: {} \".format(commit,commits,days))\n",
    "    except:\n",
    "        pass\n",
    "    \n",
    "    "
   ]
  },
  {
   "attachments": {},
   "cell_type": "markdown",
   "metadata": {},
   "source": [
    "# Task ‘4.d’: If the current VCC is not fixed immediately (within the same day), was there any other vulnerability, bug or special request happening between the current fixing commit and VCC that might require higher priority?"
   ]
  },
  {
   "attachments": {},
   "cell_type": "markdown",
   "metadata": {},
   "source": [
    "# Old Vulnerability: CVE-2018-1337 VCC Analysis"
   ]
  },
  {
   "cell_type": "code",
   "execution_count": 59,
   "metadata": {},
   "outputs": [
    {
     "name": "stdout",
     "output_type": "stream",
     "text": [
      "CVE-2018-1313\n",
      "Vulnerability Contributing Commit Count:  15  Commit:  61ef7c1f2ff6e60cdf1e999cc6c72fe55e72de5a\n",
      "Parent commit exists, as such it isn't an initial commit!\n"
     ]
    }
   ],
   "source": [
    "def sanitize(modification):\n",
    "    line=modification\n",
    "    line=line.split('@@')[1]\n",
    "    line=line.replace('-','')\n",
    "    line=line.replace('+','')\n",
    "    line=line.replace(\" \",\",\")\n",
    "    line=line.split(\",\")\n",
    "    buffDel=[int(line[1]),int(line[1])+int(line[2])-1]\n",
    "    buffAdd=[int(line[3]),int(line[3])+int(line[4])-1]\n",
    "    linesDeleted.append(buffDel)\n",
    "    linesAdded.append(buffAdd)\n",
    "def enclosingScope(line,added_commits,fileComp):\n",
    "    fullCompleteIndex = (int(line[line.rfind(\" \", 0,line.find(\")\")):line.find(\")\")]) - 1)-1 \n",
    "    exited = False\n",
    "    noSkip = True\n",
    "    while fullCompleteIndex >= 0:\n",
    "        content = fileComp[fullCompleteIndex][line.find(\") \")+2:].strip()\n",
    "        if content.endswith(\"}\"):\n",
    "            noSkip = False\n",
    "        if content.endswith(\"{\") and not noSkip:\n",
    "            noSkip = True\n",
    "        elif content.endswith(\"{\") and noSkip:\n",
    "            hashedCode = repo.git.rev_parse(fileComp[fullCompleteIndex][:fileComp[fullCompleteIndex].find(\" \")])\n",
    "            if file in added_commits[\"CVE-2018-1313\"]:\n",
    "                added_commits[\"CVE-2018-1313\"][file].append(hashedCode)\n",
    "            else:\n",
    "                added_commits[\"CVE-2018-1313\"][file] = [hashedCode]\n",
    "            exited = True\n",
    "            break\n",
    "        fullCompleteIndex -= 1\n",
    "    if fullCompleteIndex < 0 and not exited:\n",
    "        hashedCode =repo.git.rev_parse(line[:line.find(\" \")])\n",
    "        if file in added_commits[\"CVE-2018-1313\"]:\n",
    "            added_commits[\"CVE-2018-1313\"][file].append(hashedCode)\n",
    "        else:\n",
    "            added_commits[\"CVE-2018-1313\"][file] = [hashedCode]            \n",
    "def hashCode(linesModifiedDictDup,foundFlag,line,file):\n",
    "    linesModifiedDictDup[\"CVE-2018-1313\"][file][\"deleted_lines\"].remove(foundFlag)\n",
    "    hashedCode = repo.git.rev_parse(line[:line.find(\" \")])\n",
    "    if file in commitsDeleted[\"CVE-2018-1313\"]:\n",
    "        commitsDeleted[\"CVE-2018-1313\"][file].append(hashedCode)\n",
    "    else:\n",
    "        commitsDeleted[\"CVE-2018-1313\"][file] = [hashedCode]\n",
    "def printLines(commitsDeletedOrAdded):\n",
    "    delAddCommitsNumb = {}\n",
    "    \n",
    "    for files in commitsDeletedOrAdded:\n",
    "        print(\"Vulnerability Associated: \", files)\n",
    "        delAddCommitsNumb[files] = {}\n",
    "        for file in commitsDeletedOrAdded[files]:\n",
    "\n",
    "            print(\"File Associated: \", file)\n",
    "            fileCommitNumb = Counter(commitsDeletedOrAdded[files][file])\n",
    "            if file in delAddCommitsNumb[files]:\n",
    "                delAddCommitsNumb[files][file].append(fileCommitNumb)\n",
    "            else:\n",
    "                delAddCommitsNumb[files][file] = [fileCommitNumb]\n",
    "            for commit, count in zip(fileCommitNumb.keys(), fileCommitNumb.values()):\n",
    "                print(\"Count of Commits:\", count, \", Commit:\", commit)\n",
    "        print(\"\\n\")\n",
    "repo = Repo(\"directory-ldap-api/\")\n",
    "fixingCommit=\"075b70a733d7af150b3d85684149ff5f029f7fd4\"\n",
    "previousCommit=fixingCommit+\"^1\"\n",
    "lineChanges={}\n",
    "showData = repo.git.diff(\"--name-only\", fixingCommit, previousCommit).splitlines()\n",
    "files=showData\n",
    "lineChanges = {}\n",
    "lineChanges[\"\"]={}\n",
    "linesModifiedBetween = {}\n",
    "linesModifiedBetween[\"CVE-2018-1313\"] = {}\n",
    "for file in files:\n",
    "    showData = repo.git.show(fixingCommit, \"--\", file).splitlines()\n",
    "    linesAdded = []\n",
    "    linesDeleted = []\n",
    "    for modification in showData:\n",
    "        if \"@@\" in modification:\n",
    "            sanitize(modification)\n",
    "    linesModifiedBetween[\"CVE-2018-1313\"][file] = {\"added_ranges\": linesAdded, \"deleted_ranges\": linesDeleted}\n",
    "linesModifiedDict = {}\n",
    "linesModifiedDict[\"CVE-2018-1313\"] = {}\n",
    "for file in files:\n",
    "    showData = repo.git.show(fixingCommit, \"--\", file).splitlines()\n",
    "    linesAddedAsCode = []\n",
    "    linesDeletedAsCode = []\n",
    "    for lines in showData:\n",
    "        if lines.startswith('+') and not lines.startswith('+++'):\n",
    "            linesAddedAsCode.append(lines)\n",
    "        elif lines.startswith('-') and not lines.startswith('---'):\n",
    "            linesDeletedAsCode.append(lines)\n",
    "    linesModifiedDict[\"CVE-2018-1313\"][file] = {\"added_lines\": linesAddedAsCode, \"deleted_lines\": linesDeletedAsCode}\n",
    "linesModifiedDictDup = copy.deepcopy(linesModifiedDict)\n",
    "commitsDeleted = {}\n",
    "commitsDeleted[\"CVE-2018-1313\"] = {}\n",
    "for file in linesModifiedBetween[\"CVE-2018-1313\"]:\n",
    "    for deletedLines in linesModifiedBetween[\"CVE-2018-1313\"][file][\"deleted_ranges\"]:\n",
    "        blamedShowData = repo.git.blame(previousCommit, \"-L\", str(deletedLines[0])+\",\"+str(deletedLines[1]), \"--\", file).splitlines()\n",
    "        for line in blamedShowData:\n",
    "            blamedLineShowData = line.partition(\") \")[2].strip()\n",
    "            foundFlag = None\n",
    "            for deletedLineCode in linesModifiedDictDup[\"CVE-2018-1313\"][file][\"deleted_lines\"]:\n",
    "                if blamedLineShowData in deletedLineCode[2:]:\n",
    "                    foundFlag = deletedLineCode\n",
    "                    break\n",
    "            if foundFlag != None:\n",
    "                hashCode(linesModifiedDictDup,foundFlag,line,file)\n",
    "\n",
    "\n",
    "linesModifiedDictDup = copy.deepcopy(linesModifiedDict)\n",
    "added_commits = {}\n",
    "added_commits[\"CVE-2018-1313\"] = {}\n",
    "for file in linesModifiedBetween[\"CVE-2018-1313\"]:\n",
    "    fileComp = repo.git.blame(fixingCommit, \"--\", file).splitlines()\n",
    "    for linesAdded in linesModifiedBetween[\"CVE-2018-1313\"][file][\"added_ranges\"]:\n",
    "        blamedShowData = repo.git.blame(fixingCommit, \"-L\", str(linesAdded[0])+\",\"+str(linesAdded[1]), \"--\", file).splitlines()\n",
    "        for line in blamedShowData:\n",
    "            blamedLineShowData = line[line.find(\") \")+2:].strip()\n",
    "            foundFlag= None\n",
    "            for linesAdded in linesModifiedDictDup[\"CVE-2018-1313\"][file][\"added_lines\"]:\n",
    "                if blamedLineShowData in linesAdded[2:]:\n",
    "                    foundFlag = linesAdded\n",
    "                    break\n",
    "            if foundFlag != None:\n",
    "                linesModifiedDictDup[\"CVE-2018-1313\"][file][\"added_lines\"].remove(foundFlag)\n",
    "                # Finding smallest enclosing scope\n",
    "                enclosingScope(line,added_commits,fileComp)\n",
    "\n",
    "VCC = {}\n",
    "VCCCommits=[]\n",
    "\n",
    "# Counting commits\n",
    "for v in commitsDeleted:\n",
    "    VCC[v] = {}\n",
    "    print(v)\n",
    "    for f in added_commits[v]:\n",
    "       \n",
    "        if f in commitsDeleted[v] and f in added_commits[v]:\n",
    "            counted_commits = Counter(commitsDeleted[v][f]+added_commits[v][f])\n",
    "        elif f in commitsDeleted[v] and f not in added_commits[v]:\n",
    "            counted_commits = Counter(commitsDeleted[v][f])\n",
    "        elif f not in commitsDeleted[v] and f in added_commits[v]:\n",
    "            counted_commits = Counter(added_commits[v][f])\n",
    "        VCC[v][f] = {\"count\": 0, \"commit\": \"\"}\n",
    "        for commit, count in zip(counted_commits.keys(), counted_commits.values()):\n",
    "            if (count > VCC[v][f][\"count\"]):\n",
    "                if commit not in fixingCommit:\n",
    "                    VCC[v][f] = {\"count\": count, \"commit\": commit}\n",
    "            elif (count == VCC[v][f][\"count\"]):\n",
    "                if commit not in fixingCommit:\n",
    "                    VCC[v][f][\"count\"].append(count)\n",
    "        VCCCommits.append(VCC[v][f][\"commit\"])       \n",
    "        print(\"Vulnerability Contributing Commit Count: \", VCC[v][f][\"count\"], \" Commit: \", VCC[v][f][\"commit\"])\n",
    "for VCC in VCCCommits:\n",
    "   \n",
    "    try:\n",
    "        VCCParent= repo.git.show(VCC+\"^\").splitlines()\n",
    "#         pprint.pprint(VCCParent)\n",
    "    except: \n",
    "        pass\n",
    "print(\"Parent commit exists, as such it isn't an initial commit!\")"
   ]
  },
  {
   "attachments": {},
   "cell_type": "markdown",
   "metadata": {},
   "source": [
    "# Task ‘4.b’: Is the developer of the current fixing commit and its corresponding VCC the same? If not, give your reflections on the difference in their experience.\n"
   ]
  },
  {
   "cell_type": "code",
   "execution_count": 60,
   "metadata": {},
   "outputs": [
    {
     "name": "stdout",
     "output_type": "stream",
     "text": [
      "elecharny@symas.com\n",
      "Yes! fixing commit author: elecharny@symas.com is same in commit: 61ef7c1f2ff6e60cdf1e999cc6c72fe55e72de5a\n"
     ]
    }
   ],
   "source": [
    "commit=repo.commit(fixingCommit)\n",
    "fixinCommitAuthor=commit.author.email\n",
    "print(fixinCommitAuthor)\n",
    "for commits in VCCCommits:\n",
    "    VCCcommit=repo.commit(commits)\n",
    "    VCCCommitAuthor=VCCcommit.author.email\n",
    "    if(fixinCommitAuthor==VCCCommitAuthor):\n",
    "        print(\"Yes! fixing commit author: {} is same in commit: {}\".format(fixinCommitAuthor,VCCcommit))\n",
    "    else:\n",
    "        print(\"No! fixing commit author: {} not same in commit: {}\".format(fixinCommitAuthor,VCCcommit))"
   ]
  },
  {
   "attachments": {},
   "cell_type": "markdown",
   "metadata": {},
   "source": [
    "# Task ‘4.c’: How many days were between the current fixing commit and its corresponding VCC? Is the current VCC fixed immediately\n"
   ]
  },
  {
   "cell_type": "code",
   "execution_count": 61,
   "metadata": {},
   "outputs": [
    {
     "name": "stdout",
     "output_type": "stream",
     "text": [
      "Fixing commit: 075b70a733d7af150b3d85684149ff5f029f7fd4 and VCC commit: 61ef7c1f2ff6e60cdf1e999cc6c72fe55e72de5a was fixed in: 60 days, 0:00:00 \n"
     ]
    }
   ],
   "source": [
    "from datetime import datetime\n",
    "commit=repo.commit(fixingCommit)\n",
    "fixinCommitAuthor=commit.author.email\n",
    "dateFixing=repo.git.show(\"-s\",\"--format=%ci\",commit).split(\" \")\n",
    "dateFixing=dateFixing[0]\n",
    "dateFixing=datetime.strptime(\"{}\".format(dateFixing), '%Y-%m-%d').date()\n",
    "time_different = 0\n",
    "sum = 0\n",
    "count = 0\n",
    "\n",
    "for commits in VCCCommits:\n",
    "    try:\n",
    "        date=repo.git.show(\"-s\",\"--format=%ci\",commits).split(\" \")\n",
    "        date=date[0]\n",
    "        date= datetime.strptime(\"{}\".format(date), '%Y-%m-%d').date()\n",
    "        days=dateFixing-date\n",
    "        print(\"Fixing commit: {} and VCC commit: {} was fixed in: {} \".format(commit,commits,days))\n",
    "    except:\n",
    "        pass\n",
    "    \n",
    "    "
   ]
  },
  {
   "attachments": {},
   "cell_type": "markdown",
   "metadata": {},
   "source": [
    "# Task ‘4.d’: If the current VCC is not fixed immediately (within the same day), was there any other vulnerability, bug or special request happening between the current fixing commit and VCC that might require higher priority?"
   ]
  },
  {
   "cell_type": "code",
   "execution_count": null,
   "metadata": {},
   "outputs": [],
   "source": []
  },
  {
   "cell_type": "code",
   "execution_count": null,
   "metadata": {},
   "outputs": [],
   "source": []
  },
  {
   "cell_type": "code",
   "execution_count": null,
   "metadata": {},
   "outputs": [],
   "source": []
  }
 ],
 "metadata": {
  "kernelspec": {
   "display_name": "Python 3",
   "language": "python",
   "name": "python3"
  },
  "language_info": {
   "codemirror_mode": {
    "name": "ipython",
    "version": 3
   },
   "file_extension": ".py",
   "mimetype": "text/x-python",
   "name": "python",
   "nbconvert_exporter": "python",
   "pygments_lexer": "ipython3",
   "version": "3.7.4"
  }
 },
 "nbformat": 4,
 "nbformat_minor": 2
}
